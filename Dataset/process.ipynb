{
 "cells": [
  {
   "cell_type": "code",
   "execution_count": 17,
   "metadata": {
    "collapsed": true
   },
   "outputs": [],
   "source": [
    "%matplotlib inline\n",
    "import pymysql\n",
    "import os\n",
    "import re\n",
    "import copy\n",
    "import matplotlib.pyplot as plt\n",
    "from nltk.corpus import stopwords\n",
    "from lxml import etree\n",
    "import json\n",
    "import time"
   ]
  },
  {
   "cell_type": "code",
   "execution_count": 2,
   "metadata": {
    "collapsed": false
   },
   "outputs": [],
   "source": [
    "connection = pymysql.connect(host='127.0.0.1',\n",
    "                             user='data',\n",
    "                             password='data',\n",
    "                             db='mag-new-160205',\n",
    "                             charset='utf8mb4',\n",
    "                             port=3306,\n",
    "                             cursorclass=pymysql.cursors.DictCursor)\n",
    "cursor = connection.cursor()"
   ]
  },
  {
   "cell_type": "code",
   "execution_count": 3,
   "metadata": {
    "collapsed": false
   },
   "outputs": [
    {
     "name": "stdout",
     "output_type": "stream",
     "text": [
      "7945\n"
     ]
    }
   ],
   "source": [
    "author_name_set = set()\n",
    "data_folder = 'data'\n",
    "link_data_file_name = 'links_10000'\n",
    "link_data = open(os.path.join(data_folder, link_data_file_name+'.txt'), 'r')\n",
    "for line in link_data:\n",
    "    aus = line.split('\\t')[:2]\n",
    "    for au in aus:\n",
    "        author_name_set.add(au.replace('_', ' '))\n",
    "print (len(author_name_set))"
   ]
  },
  {
   "cell_type": "code",
   "execution_count": 4,
   "metadata": {
    "collapsed": false
   },
   "outputs": [
    {
     "name": "stdout",
     "output_type": "stream",
     "text": [
      "Process: %d, Time: %.3f 500 182.67347192764282\n",
      "Process: %d, Time: %.3f 1000 164.84876227378845\n",
      "Process: %d, Time: %.3f 1500 149.08687090873718\n",
      "Process: %d, Time: %.3f 2000 158.160884141922\n",
      "Process: %d, Time: %.3f 2500 151.90070414543152\n",
      "Process: %d, Time: %.3f 3000 144.59556221961975\n",
      "Process: %d, Time: %.3f 3500 153.99828386306763\n",
      "Process: %d, Time: %.3f 4000 127.90542554855347\n",
      "Process: %d, Time: %.3f 4500 126.81808304786682\n",
      "Process: %d, Time: %.3f 5000 114.89902305603027\n",
      "Process: %d, Time: %.3f 5500 119.75180172920227\n",
      "Process: %d, Time: %.3f 6000 132.8612403869629\n",
      "Process: %d, Time: %.3f 6500 133.934672832489\n",
      "Process: %d, Time: %.3f 7000 117.97388339042664\n",
      "Process: %d, Time: %.3f 7500 123.34813332557678\n"
     ]
    }
   ],
   "source": [
    "search_id_str = \"SELECT AuthorID FROM Authors WHERE AuthorName = '%s'\"\n",
    "# search_fos_str = \"SELECT AuthorFOS.FieldOfStudyIDMappedToKeyword, \\\n",
    "#                                 FieldsOfStudy.FieldsOfStudyName, \\\n",
    "#                                 FieldsOfStudy.FieldsOfStudyLevel \\\n",
    "#                                 FROM AuthorFOS, FieldsOfStudy WHERE \\\n",
    "#                                 AuthorFOS.AuthorID = '%s' and FieldsOfStudy.FieldsOfStudyID = AuthorFOS.FieldOfStudyIDMappedToKeyword\"\n",
    "search_fos_str = \"SELECT FieldOfStudyIDMappedToKeyword \\\n",
    "                                FROM AuthorFOS WHERE \\\n",
    "                                AuthorID = '%s' \"\n",
    "res_dict = {}\n",
    "start = time.time()\n",
    "for i, au in enumerate(author_name_set):\n",
    "#     print (search_id_str % au)\n",
    "    if (i+1)%500 == 0:\n",
    "        print ('Process: %d, Time: %.3f', (i+1), time.time()-start)\n",
    "        start = time.time()\n",
    "    res_dict[au.replace(' ', '_')] = []\n",
    "    cursor.execute(search_id_str % au)\n",
    "    id_res = cursor.fetchall()\n",
    "#     print ('len idres', len(id_res))\n",
    "    if id_res:\n",
    "        for id_row in id_res:\n",
    "#             print ('idrow', id_row)\n",
    "            cursor.execute(search_fos_str % id_row['AuthorID'])\n",
    "            fos_res = cursor.fetchall()\n",
    "#             print ('len fos_res', len(fos_res))\n",
    "            if fos_res:\n",
    "                for fos_row in fos_res:\n",
    "#                     print ('fos_row', fos_row)\n",
    "                    res_dict[au.replace(' ', '_')].append(fos_row['FieldOfStudyIDMappedToKeyword'])\n",
    "#                     print (fos_row['FieldOfStudyIDMappedToKeyword'])\n",
    "#     break\n"
   ]
  },
  {
   "cell_type": "code",
   "execution_count": 5,
   "metadata": {
    "collapsed": true
   },
   "outputs": [],
   "source": [
    "derive_file = open(os.path.join(data_folder, link_data_file_name+'_with_fos.txt'), 'w')\n",
    "for k,v in res_dict.items():\n",
    "    derive_file.write(k+'\\t')\n",
    "    for fos in v:\n",
    "        derive_file.write(fos+' ')\n",
    "    derive_file.write('\\n')"
   ]
  },
  {
   "cell_type": "code",
   "execution_count": 6,
   "metadata": {
    "collapsed": true
   },
   "outputs": [],
   "source": [
    "derive_file.close()"
   ]
  },
  {
   "cell_type": "code",
   "execution_count": 13,
   "metadata": {
    "collapsed": true
   },
   "outputs": [
    {
     "name": "stdout",
     "output_type": "stream",
     "text": [
      "dict_keys([0, 1, 2, 3, 4, 5, 6, 4097, 8, 9, 10, 11, 12, 13, 14, 15, 16, 17, 18, 19, 20, 21, 22, 23, 24, 25, 26, 27, 28, 29, 30, 31, 32, 33, 34, 35, 36, 37, 38, 39, 40, 41, 42, 43, 44, 45, 46, 47, 48, 49, 50, 51, 52, 53, 54, 55, 56, 57, 58, 59, 60, 61, 62, 63, 64, 65, 66, 67, 68, 69, 70, 71, 72, 73, 74, 75, 76, 77, 78, 79, 80, 81, 82, 83, 84, 85, 86, 87, 88, 89, 90, 91, 92, 93, 94, 95, 96, 97, 98, 99, 100, 101, 102, 103, 104, 105, 106, 107, 108, 109, 110, 111, 112, 113, 114, 115, 116, 117, 118, 119, 120, 121, 122, 123, 124, 125, 126, 127, 128, 129, 130, 131, 132, 133, 134, 135, 136, 137, 138, 139, 140, 141, 142, 143, 144, 145, 146, 147, 148, 149, 4246, 151, 152, 153, 154, 155, 156, 157, 158, 159, 160, 161, 162, 163, 164, 165, 166, 167, 168, 169, 170, 171, 172, 173, 174, 175, 176, 8904, 178, 179, 180, 181, 182, 183, 184, 185, 186, 187, 188, 189, 190, 191, 192, 193, 194, 195, 196, 197, 6144, 199, 200, 201, 202, 203, 204, 205, 206, 207, 208, 209, 210, 211, 212, 213, 214, 215, 7, 217, 218, 219, 5190, 221, 222, 223, 224, 225, 226, 227, 228, 4134, 230, 231, 232, 233, 234, 235, 236, 237, 238, 239, 240, 241, 242, 243, 244, 245, 246, 247, 248, 249, 250, 251, 252, 253, 254, 255, 256, 257, 258, 259, 260, 12549, 262, 263, 264, 265, 266, 267, 4364, 269, 270, 271, 272, 273, 274, 4371, 276, 277, 278, 279, 280, 281, 282, 283, 284, 285, 286, 287, 288, 289, 290, 291, 4388, 293, 294, 295, 296, 297, 298, 299, 300, 301, 302, 303, 304, 21896, 306, 307, 308, 309, 310, 311, 312, 313, 314, 315, 316, 317, 318, 319, 320, 321, 322, 323, 324, 325, 326, 737, 328, 329, 330, 331, 332, 333, 334, 335, 336, 337, 338, 339, 20820, 341, 342, 343, 344, 345, 346, 347, 348, 349, 350, 351, 352, 5520, 354, 4155, 356, 357, 12646, 359, 360, 361, 362, 363, 364, 365, 366, 367, 368, 369, 370, 371, 372, 373, 8566, 375, 376, 377, 378, 379, 380, 381, 382, 383, 384, 385, 386, 387, 388, 389, 390, 391, 392, 393, 394, 395, 396, 397, 398, 399, 400, 401, 402, 403, 404, 405, 406, 407, 408, 409, 410, 411, 412, 413, 414, 415, 416, 417, 418, 419, 420, 421, 422, 423, 424, 425, 426, 427, 428, 429, 430, 25007, 432, 433, 434, 435, 436, 437, 438, 439, 440, 441, 442, 443, 444, 445, 446, 447, 448, 449, 450, 451, 452, 453, 454, 455, 456, 457, 458, 459, 460, 461, 4558, 463, 464, 465, 466, 467, 468, 469, 470, 5062, 473, 474, 475, 476, 477, 478, 479, 480, 481, 482, 483, 484, 485, 486, 487, 488, 489, 490, 491, 492, 493, 494, 495, 496, 497, 498, 499, 500, 501, 502, 503, 504, 505, 506, 507, 508, 509, 510, 511, 512, 513, 514, 515, 516, 517, 518, 519, 520, 521, 522, 523, 524, 525, 526, 527, 528, 529, 530, 531, 532, 533, 534, 535, 536, 537, 538, 539, 540, 541, 542, 543, 544, 4641, 546, 547, 548, 549, 550, 551, 552, 553, 554, 555, 556, 557, 558, 559, 560, 561, 562, 563, 12852, 565, 566, 4663, 568, 4665, 570, 571, 572, 573, 574, 575, 576, 577, 578, 579, 580, 581, 582, 8775, 584, 585, 586, 587, 4684, 589, 590, 591, 592, 593, 594, 595, 596, 597, 598, 599, 600, 2148, 602, 603, 604, 605, 606, 607, 608, 609, 610, 611, 612, 613, 614, 615, 616, 617, 619, 620, 621, 622, 623, 624, 625, 626, 627, 4724, 629, 630, 631, 632, 633, 634, 635, 636, 637, 638, 639, 640, 1472, 642, 643, 644, 645, 646, 647, 648, 649, 650, 4747, 652, 653, 654, 655, 656, 657, 658, 659, 660, 661, 662, 663, 664, 665, 666, 667, 25244, 669, 670, 671, 672, 674, 675, 676, 677, 678, 679, 12968, 681, 682, 683, 684, 685, 686, 687, 688, 690, 691, 692, 693, 694, 695, 4792, 697, 699, 700, 701, 702, 703, 704, 705, 706, 707, 708, 709, 710, 711, 712, 713, 714, 715, 716, 717, 718, 719, 720, 721, 722, 723, 724, 8918, 727, 728, 729, 730, 731, 732, 733, 734, 735, 736, 13025, 738, 739, 740, 33509, 742, 743, 744, 745, 746, 747, 748, 749, 750, 751, 752, 753, 754, 755, 756, 757, 758, 759, 760, 761, 762, 763, 764, 765, 766, 767, 768, 769, 770, 771, 772, 773, 4870, 775, 776, 777, 778, 779, 780, 781, 782, 783, 784, 785, 786, 787, 788, 789, 790, 791, 792, 793, 794, 795, 796, 797, 798, 799, 800, 801, 802, 803, 804, 805, 806, 807, 808, 809, 811, 13106, 814, 815, 816, 817, 818, 819, 820, 821, 822, 823, 824, 4921, 826, 827, 829, 830, 831, 832, 833, 834, 835, 17220, 837, 838, 839, 4936, 841, 842, 844, 845, 846, 847, 848, 849, 850, 851, 852, 853, 854, 855, 856, 858, 859, 860, 862, 863, 865, 866, 868, 869, 870, 871, 873, 874, 875, 876, 877, 878, 879, 880, 882, 885, 886, 889, 3198, 891, 892, 893, 9086, 895, 896, 897, 898, 899, 150, 902, 903, 904, 905, 906, 907, 908, 11710, 910, 911, 912, 913, 914, 915, 916, 917, 9113, 922, 923, 924, 925, 5022, 927, 929, 9122, 931, 5028, 933, 934, 935, 936, 937, 938, 939, 940, 941, 942, 943, 944, 945, 946, 947, 948, 4254, 9142, 951, 952, 953, 954, 955, 957, 958, 959, 960, 961, 962, 963, 964, 966, 968, 970, 971, 972, 973, 974, 975, 976, 978, 13267, 980, 981, 982, 983, 984, 985, 9179, 988, 989, 990, 991, 992, 993, 995, 997, 998, 999, 1001, 1002, 8359, 1004, 1005, 1006, 1008, 1009, 1010, 1011, 1012, 1013, 1014, 1015, 1016, 1017, 1018, 1019, 1020, 1021, 5118, 13312, 1025, 1027, 1028, 1029, 1030, 1031, 1032, 1033, 1034, 1035, 1036, 5133, 1038, 4269, 1040, 1041, 1042, 1043, 1044, 1045, 1046, 1047, 1048, 1049, 1050, 5147, 1052, 1053, 1054, 1055, 1056, 1057, 5154, 13347, 1060, 1061, 1062, 1063, 1064, 1066, 5491, 1068, 1069, 1070, 1071, 1072, 1073, 1074, 2227, 1076, 1077, 1078, 1079, 1080, 1081, 1083, 8654, 1085, 1086, 1087, 1088, 1089, 1090, 1091, 1092, 1093, 1094, 1095, 1096, 1097, 1099, 1100, 9294, 1104, 1105, 1106, 1107, 1108, 1109, 1110, 4281, 1113, 1114, 1115, 1116, 1117, 1118, 1119, 1120, 1121, 1122, 1123, 1124, 1125, 5222, 5223, 1128, 1129, 1130, 1131, 1132, 1133, 1134, 1135, 1136, 1137, 1138, 9331, 1140, 1141, 1142, 1145, 1146, 1147, 1148, 1149, 1150, 1152, 1153, 1154, 1155, 1157, 5254, 1159, 1160, 1161, 1162, 1163, 1164, 1165, 1166, 1167, 1169, 1170, 1171, 1172, 1173, 5270, 1175, 1176, 1177, 1178, 1180, 29853, 1182, 1183, 1184, 1185, 1186, 5283, 198, 1190, 1191, 1192, 1193, 1195, 1196, 1197, 1198, 1204, 1205, 1207, 1208, 1209, 1210, 1211, 1212, 1213, 1214, 1215, 4814, 5313, 1219, 1222, 177, 1226, 1227, 1228, 1229, 1230, 1231, 1232, 1233, 1235, 1236, 6350, 1238, 1239, 1240, 1241, 1242, 1243, 1244, 1245, 1246, 1247, 1248, 4304, 1250, 1251, 1252, 1253, 1254, 1255, 1256, 1257, 1258, 1259, 1261, 1262, 1263, 1264, 1265, 1266, 1267, 5364, 1269, 1270, 1272, 1273, 1274, 1275, 1276, 1278, 588, 1281, 1282, 1285, 1286, 1287, 1288, 1289, 16783, 1291, 1292, 1294, 1296, 216, 1298, 4544, 1301, 1302, 9496, 1306, 1307, 1308, 1309, 1310, 1311, 9504, 1314, 5411, 1316, 1318, 1319, 1320, 220, 1323, 1324, 1325, 1327, 1328, 1329, 1330, 1331, 1332, 1333, 1334, 1336, 1337, 1339, 6864, 13630, 1343, 1345, 1346, 1347, 1348, 1349, 1352, 1353, 1354, 1355, 1357, 1358, 909, 1360, 1361, 2773, 2275, 1364, 1367, 1368, 1369, 1371, 1373, 5470, 1375, 1376, 1377, 1379, 1380, 18595, 1382, 1383, 1387, 1389, 1390, 1391, 1392, 1393, 1395, 1397, 1398, 1399, 1401, 1402, 1599, 1404, 8426, 1407, 1408, 1409, 1412, 1413, 1414, 1415, 5512, 1417, 1418, 1420, 1422, 1423, 1424, 17809, 1427, 1428, 1429, 1430, 921, 1433, 1434, 1435, 1436, 1437, 1438, 1440, 1442, 1443, 1444, 5542, 13735, 1448, 1449, 3655, 1452, 1453, 1454, 1455, 1456, 1458, 926, 1609, 1464, 1466, 1467, 1468, 1471, 17856, 1473, 1474, 1475, 4300, 1477, 1478, 1479, 1480, 1481, 1482, 1483, 1484, 5026, 1486, 1488, 1490, 1491, 1492, 1493, 1494, 1496, 932, 1498, 1615, 1500, 1502, 1503, 1504, 1505, 1774, 1507, 1508, 1510, 17895, 1513, 1514, 1516, 1517, 1519, 1520, 1522, 13907, 1524, 1525, 1526, 1527, 1528, 1529, 5626, 1532, 1533, 1536, 1537, 1539, 1540, 1541, 1542, 4143, 1546, 13911, 1549, 1550, 1551, 1552, 1553, 1556, 1557, 1558, 1559, 1560, 1561, 1563, 1566, 261, 1568, 1569, 1571, 22054, 1576, 1647, 1578, 1579, 9773, 1582, 5681, 1587, 1588, 1590, 1591, 462, 1594, 1596, 2314, 1598, 9791, 1600, 1601, 1602, 1603, 1604, 950, 1606, 268, 1610, 1611, 1612, 1613, 4365, 1617, 1618, 1619, 1620, 1621, 1622, 1623, 1624, 1625, 1626, 1627, 1628, 1629, 1630, 1633, 1635, 1636, 1637, 1638, 1639, 1640, 5737, 1642, 22124, 1645, 1646, 5053, 1648, 275, 9845, 1654, 1641, 5752, 1657, 1661, 1664, 1665, 1668, 1669, 1670, 1672, 1673, 4944, 1681, 4284, 1686, 5783, 1691, 1692, 4378, 1694, 9890, 1699, 1701, 1702, 30377, 5803, 1708, 1709, 1712, 1714, 5811, 1716, 1717, 1718, 1719, 1720, 1722, 1723, 1724, 1726, 1727, 1728, 1729, 5826, 5827, 1732, 1733, 1734, 1735, 1736, 1737, 1739, 1742, 1744, 1745, 9938, 1748, 1749, 5753, 292, 1755, 1757, 1759, 1760, 1762, 1765, 1767, 1769, 1770, 1772, 5870, 6333, 5874, 1779, 1781, 1784, 1785, 1786, 1787, 1788, 1790, 1791, 1792, 1793, 10539, 5893, 1799, 1800, 5898, 1804, 1807, 1814, 4152, 1818, 1820, 1822, 1823, 14112, 5923, 1831, 1832, 1833, 1836, 1837, 9181, 1425, 1841, 5938, 5939, 1844, 1845, 1846, 1848, 1851, 12597, 1856, 1858, 1859, 1861, 1862, 1863, 1866, 5963, 1868, 1869, 1870, 1871, 1873, 4104, 1879, 1880, 1882, 1883, 1884, 1889, 1890, 8895, 1892, 1894, 1896, 1899, 1900, 1902, 1904, 1906, 1908, 1909, 6006, 1911, 4428, 1914, 8929, 1916, 1917, 1918, 6017, 1922, 1003, 1925, 1926, 1927, 1687, 1933, 1936, 6033, 1942, 1944, 1945, 1949, 1950, 2373, 1953, 1954, 5787, 1956, 1957, 1959, 5788, 1962, 327, 1965, 1967, 1969, 1977, 4236, 1981, 1983, 1985, 1988, 1991, 1993, 1994, 1996, 1997, 1998, 2000, 2002, 10195, 2005, 6178, 2009, 4431, 2014, 2016, 2018, 2028, 2030, 2032, 8531, 1022, 2038, 1705, 340, 6139, 2044, 2045, 10155, 2048, 1024, 10242, 2051, 2052, 2053, 2054, 6151, 2057, 2058, 2062, 2065, 2066, 11267, 2068, 2070, 2071, 2074, 2075, 18462, 2081, 2082, 6179, 8560, 14374, 2087, 2091, 2093, 2095, 2096, 14003, 2100, 2101, 2104, 2107, 2110, 2117, 353, 2121, 2123, 14418, 355, 2133, 2134, 4981, 696, 2138, 1039, 2140, 4453, 6244, 358, 6246, 5137, 18537, 6253, 2159, 4456, 10356, 12687, 2168, 2169, 2170, 2171, 2172, 12650, 14462, 4106, 2176, 2183, 10380, 2189, 726, 2195, 6292, 2198, 2199, 2200, 2202, 2209, 1051, 2212, 6309, 2214, 2216, 2217, 2219, 2220, 2222, 2224, 6323, 2229, 2230, 2231, 10424, 4468, 2234, 2237, 2241, 2244, 374, 2246, 2248, 2251, 13032, 2254, 2256, 2257, 2258, 1059, 2261, 3485, 6361, 6362, 2268, 16762, 2270, 5157, 2274, 18659, 14564, 894, 2278, 9937, 4100, 2283, 2284, 14574, 6383, 6385, 2290, 3795, 2430, 2294, 6391, 2296, 2299, 14588, 2304, 2309, 2310, 9897, 13716, 4482, 2318, 14607, 2322, 1753, 2328, 2330, 4171, 2333, 2337, 2343, 2344, 6442, 4487, 2352, 2353, 2355, 2356, 1715, 2359, 2361, 2362, 2364, 2365, 2366, 2369, 2370, 2371, 10565, 2375, 2377, 2382, 2384, 2385, 2386, 2388, 6217, 2394, 2395, 2397, 2398, 2400, 2401, 2402, 2403, 2404, 2406, 6503, 2414, 2425, 2428, 6525, 6526, 2431, 2433, 2435, 2440, 2441, 1547, 2447, 2453, 2454, 2744, 2459, 18844, 6557, 2464, 2466, 12699, 2469, 18854, 1446, 2473, 2476, 1778, 2479, 2481, 2482, 2485, 2489, 10683, 2493, 2499, 2504, 2505, 2513, 2514, 6617, 2522, 12562, 2525, 6625, 2470, 2535, 18994, 2539, 2541, 6640, 2545, 2558, 2560, 2131, 2563, 2568, 2569, 2571, 2582, 431, 6684, 2590, 1797, 2594, 2595, 2599, 2600, 14889, 2603, 4317, 2269, 2613, 2618, 1451, 2625, 2626, 5388, 9996, 23114, 13410, 6736, 14931, 2645, 2656, 18092, 1126, 14953, 2668, 2669, 2271, 2672, 10866, 6771, 836, 2684, 2686, 2689, 8955, 2696, 2698, 2699, 2702, 6800, 2706, 2708, 2710, 2711, 2715, 2718, 2728, 2730, 2740, 6840, 6848, 2754, 2755, 2757, 1592, 2764, 2766, 2768, 7288, 774, 1827, 6869, 2779, 6879, 13477, 229, 2788, 4561, 2792, 10275, 6901, 2808, 2809, 11002, 21841, 2813, 2815, 5248, 2276, 8884, 6926, 472, 2841, 2843, 2844, 4810, 1158, 2855, 15144, 6953, 2858, 1842, 9352, 2866, 5551, 641, 7597, 2874, 15165, 2879, 2881, 6984, 2894, 2896, 2902, 15194, 2917, 2920, 7021, 1656, 2929, 2932, 2933, 2941, 2946, 2950, 2954, 2955, 7052, 2959, 3907, 2967, 11160, 2969, 2974, 4327, 2873, 8828, 15266, 10549, 1463, 4593, 1181, 7088, 2995, 2996, 3003, 3005, 5010, 13472, 3010, 23491, 1111, 3019, 7117, 3024, 4600, 11223, 1189, 3040, 3043, 12796, 7148, 3053, 3056, 23541, 19446, 3066, 3071, 3072, 3075, 7172, 8706, 3089, 3091, 11284, 11285, 3094, 11292, 2149, 7203, 3108, 3121, 2968, 3127, 7226, 7229, 13493, 3137, 3139, 3145, 11341, 3256, 3155, 15461, 3178, 3189, 3191, 15480, 3195, 3197, 4880, 3200, 1216, 7298, 3206, 7304, 3212, 3217, 3220, 7320, 3226, 6245, 3234, 4635, 3237, 2588, 3245, 15535, 7344, 1058, 23734, 23735, 7352, 3260, 13202, 3264, 545, 3272, 4642, 3279, 840, 17192, 11486, 3296, 3303, 3304, 3305, 3306, 7403, 15601, 3316, 11518, 1237, 3329, 7428, 3336, 3340, 3342, 1923, 3350, 7448, 15642, 3355, 22405, 15661, 7473, 3380, 7614, 7480, 564, 3389, 3392, 1249, 567, 11596, 3409, 7511, 7516, 7518, 6032, 3432, 11626, 7533, 3451, 3452, 5354, 19849, 11668, 7575, 3483, 20815, 3486, 3490, 3492, 11689, 583, 3501, 3504, 7607, 1268, 3515, 3516, 3518, 3519, 741, 7619, 7620, 3527, 11720, 7625, 3532, 3544, 6052, 569, 2233, 8438, 3556, 7653, 3559, 3561, 3564, 3565, 3566, 7665, 2643, 3572, 6057, 4333, 1963, 5575, 3594, 7699, 3609, 3610, 3613, 7710, 3617, 3626, 7725, 3631, 3634, 15926, 1485, 1290, 7743, 3649, 3650, 3654, 5168, 3657, 3662, 7761, 2659, 979, 7774, 1297, 3694, 7793, 3698, 7798, 3704, 1300, 3712, 11910, 3721, 7826, 8814, 3735, 20120, 3737, 3740, 13594, 3743, 3753, 4217, 628, 11964, 3774, 3776, 1312, 3784, 3787, 1315, 6264, 7900, 12002, 3817, 4733, 3824, 3826, 3828, 1321, 16129, 2992, 4737, 3848, 7945, 305, 3861, 3862, 3864, 16157, 3870, 3871, 987, 3882, 3886, 3891, 3901, 8000, 651, 4748, 8022, 949, 24412, 13770, 813, 12140, 2041, 3957, 8056, 5439, 3966, 6270, 12175, 5179, 8082, 6543, 12186, 3996, 8100, 668, 4010, 14431, 4033, 4035, 4038, 4039, 4041, 8151, 17894, 20449, 4066, 17103, 4073, 1362, 680, 4084, 8187])\n"
     ]
    },
    {
     "ename": "RuntimeError",
     "evalue": "Invalid DISPLAY variable",
     "output_type": "error",
     "traceback": [
      "\u001b[1;31m---------------------------------------------------------------------------\u001b[0m",
      "\u001b[1;31mRuntimeError\u001b[0m                              Traceback (most recent call last)",
      "\u001b[1;32m<ipython-input-13-0c0381acb630>\u001b[0m in \u001b[0;36m<module>\u001b[1;34m()\u001b[0m\n\u001b[0;32m     15\u001b[0m \u001b[1;31m# print (fos_freq_y)\u001b[0m\u001b[1;33m\u001b[0m\u001b[1;33m\u001b[0m\u001b[0m\n\u001b[0;32m     16\u001b[0m \u001b[0mprint\u001b[0m \u001b[1;33m(\u001b[0m\u001b[0mauthor_fos\u001b[0m\u001b[1;33m.\u001b[0m\u001b[0mkeys\u001b[0m\u001b[1;33m(\u001b[0m\u001b[1;33m)\u001b[0m\u001b[1;33m)\u001b[0m\u001b[1;33m\u001b[0m\u001b[0m\n\u001b[1;32m---> 17\u001b[1;33m \u001b[0mplt\u001b[0m\u001b[1;33m.\u001b[0m\u001b[0mhist\u001b[0m\u001b[1;33m(\u001b[0m\u001b[0mauthor_fos\u001b[0m\u001b[1;33m.\u001b[0m\u001b[0mkeys\u001b[0m\u001b[1;33m(\u001b[0m\u001b[1;33m)\u001b[0m\u001b[1;33m)\u001b[0m\u001b[1;33m\u001b[0m\u001b[0m\n\u001b[0m\u001b[0;32m     18\u001b[0m \u001b[1;31m# plt.bar(fos_freq_x, fos_freq_y, align='center')\u001b[0m\u001b[1;33m\u001b[0m\u001b[1;33m\u001b[0m\u001b[0m\n\u001b[0;32m     19\u001b[0m \u001b[1;31m# plt.xlabel('Grade')\u001b[0m\u001b[1;33m\u001b[0m\u001b[1;33m\u001b[0m\u001b[0m\n",
      "\u001b[1;32m/home/sjtuiiot/ytjia/.pyenv/versions/anaconda3-4.0.0/lib/python3.5/site-packages/matplotlib/pyplot.py\u001b[0m in \u001b[0;36mhist\u001b[1;34m(x, bins, range, normed, weights, cumulative, bottom, histtype, align, orientation, rwidth, log, color, label, stacked, hold, data, **kwargs)\u001b[0m\n\u001b[0;32m   2945\u001b[0m          \u001b[0mrwidth\u001b[0m\u001b[1;33m=\u001b[0m\u001b[1;32mNone\u001b[0m\u001b[1;33m,\u001b[0m \u001b[0mlog\u001b[0m\u001b[1;33m=\u001b[0m\u001b[1;32mFalse\u001b[0m\u001b[1;33m,\u001b[0m \u001b[0mcolor\u001b[0m\u001b[1;33m=\u001b[0m\u001b[1;32mNone\u001b[0m\u001b[1;33m,\u001b[0m \u001b[0mlabel\u001b[0m\u001b[1;33m=\u001b[0m\u001b[1;32mNone\u001b[0m\u001b[1;33m,\u001b[0m \u001b[0mstacked\u001b[0m\u001b[1;33m=\u001b[0m\u001b[1;32mFalse\u001b[0m\u001b[1;33m,\u001b[0m\u001b[1;33m\u001b[0m\u001b[0m\n\u001b[0;32m   2946\u001b[0m          hold=None, data=None, **kwargs):\n\u001b[1;32m-> 2947\u001b[1;33m     \u001b[0max\u001b[0m \u001b[1;33m=\u001b[0m \u001b[0mgca\u001b[0m\u001b[1;33m(\u001b[0m\u001b[1;33m)\u001b[0m\u001b[1;33m\u001b[0m\u001b[0m\n\u001b[0m\u001b[0;32m   2948\u001b[0m     \u001b[1;31m# allow callers to override the hold state by passing hold=True|False\u001b[0m\u001b[1;33m\u001b[0m\u001b[1;33m\u001b[0m\u001b[0m\n\u001b[0;32m   2949\u001b[0m     \u001b[0mwashold\u001b[0m \u001b[1;33m=\u001b[0m \u001b[0max\u001b[0m\u001b[1;33m.\u001b[0m\u001b[0mishold\u001b[0m\u001b[1;33m(\u001b[0m\u001b[1;33m)\u001b[0m\u001b[1;33m\u001b[0m\u001b[0m\n",
      "\u001b[1;32m/home/sjtuiiot/ytjia/.pyenv/versions/anaconda3-4.0.0/lib/python3.5/site-packages/matplotlib/pyplot.py\u001b[0m in \u001b[0;36mgca\u001b[1;34m(**kwargs)\u001b[0m\n\u001b[0;32m    926\u001b[0m     \u001b[0mmatplotlib\u001b[0m\u001b[1;33m.\u001b[0m\u001b[0mfigure\u001b[0m\u001b[1;33m.\u001b[0m\u001b[0mFigure\u001b[0m\u001b[1;33m.\u001b[0m\u001b[0mgca\u001b[0m \u001b[1;33m:\u001b[0m \u001b[0mThe\u001b[0m \u001b[0mfigure\u001b[0m\u001b[0;31m'\u001b[0m\u001b[0ms\u001b[0m \u001b[0mgca\u001b[0m \u001b[0mmethod\u001b[0m\u001b[1;33m.\u001b[0m\u001b[1;33m\u001b[0m\u001b[0m\n\u001b[0;32m    927\u001b[0m     \"\"\"\n\u001b[1;32m--> 928\u001b[1;33m     \u001b[1;32mreturn\u001b[0m \u001b[0mgcf\u001b[0m\u001b[1;33m(\u001b[0m\u001b[1;33m)\u001b[0m\u001b[1;33m.\u001b[0m\u001b[0mgca\u001b[0m\u001b[1;33m(\u001b[0m\u001b[1;33m**\u001b[0m\u001b[0mkwargs\u001b[0m\u001b[1;33m)\u001b[0m\u001b[1;33m\u001b[0m\u001b[0m\n\u001b[0m\u001b[0;32m    929\u001b[0m \u001b[1;33m\u001b[0m\u001b[0m\n\u001b[0;32m    930\u001b[0m \u001b[1;31m# More ways of creating axes:\u001b[0m\u001b[1;33m\u001b[0m\u001b[1;33m\u001b[0m\u001b[0m\n",
      "\u001b[1;32m/home/sjtuiiot/ytjia/.pyenv/versions/anaconda3-4.0.0/lib/python3.5/site-packages/matplotlib/pyplot.py\u001b[0m in \u001b[0;36mgcf\u001b[1;34m()\u001b[0m\n\u001b[0;32m    576\u001b[0m         \u001b[1;32mreturn\u001b[0m \u001b[0mfigManager\u001b[0m\u001b[1;33m.\u001b[0m\u001b[0mcanvas\u001b[0m\u001b[1;33m.\u001b[0m\u001b[0mfigure\u001b[0m\u001b[1;33m\u001b[0m\u001b[0m\n\u001b[0;32m    577\u001b[0m     \u001b[1;32melse\u001b[0m\u001b[1;33m:\u001b[0m\u001b[1;33m\u001b[0m\u001b[0m\n\u001b[1;32m--> 578\u001b[1;33m         \u001b[1;32mreturn\u001b[0m \u001b[0mfigure\u001b[0m\u001b[1;33m(\u001b[0m\u001b[1;33m)\u001b[0m\u001b[1;33m\u001b[0m\u001b[0m\n\u001b[0m\u001b[0;32m    579\u001b[0m \u001b[1;33m\u001b[0m\u001b[0m\n\u001b[0;32m    580\u001b[0m \u001b[1;33m\u001b[0m\u001b[0m\n",
      "\u001b[1;32m/home/sjtuiiot/ytjia/.pyenv/versions/anaconda3-4.0.0/lib/python3.5/site-packages/matplotlib/pyplot.py\u001b[0m in \u001b[0;36mfigure\u001b[1;34m(num, figsize, dpi, facecolor, edgecolor, frameon, FigureClass, **kwargs)\u001b[0m\n\u001b[0;32m    525\u001b[0m                                         \u001b[0mframeon\u001b[0m\u001b[1;33m=\u001b[0m\u001b[0mframeon\u001b[0m\u001b[1;33m,\u001b[0m\u001b[1;33m\u001b[0m\u001b[0m\n\u001b[0;32m    526\u001b[0m                                         \u001b[0mFigureClass\u001b[0m\u001b[1;33m=\u001b[0m\u001b[0mFigureClass\u001b[0m\u001b[1;33m,\u001b[0m\u001b[1;33m\u001b[0m\u001b[0m\n\u001b[1;32m--> 527\u001b[1;33m                                         **kwargs)\n\u001b[0m\u001b[0;32m    528\u001b[0m \u001b[1;33m\u001b[0m\u001b[0m\n\u001b[0;32m    529\u001b[0m         \u001b[1;32mif\u001b[0m \u001b[0mfigLabel\u001b[0m\u001b[1;33m:\u001b[0m\u001b[1;33m\u001b[0m\u001b[0m\n",
      "\u001b[1;32m/home/sjtuiiot/ytjia/.pyenv/versions/anaconda3-4.0.0/lib/python3.5/site-packages/matplotlib/backends/backend_qt4agg.py\u001b[0m in \u001b[0;36mnew_figure_manager\u001b[1;34m(num, *args, **kwargs)\u001b[0m\n\u001b[0;32m     44\u001b[0m     \u001b[0mFigureClass\u001b[0m \u001b[1;33m=\u001b[0m \u001b[0mkwargs\u001b[0m\u001b[1;33m.\u001b[0m\u001b[0mpop\u001b[0m\u001b[1;33m(\u001b[0m\u001b[1;34m'FigureClass'\u001b[0m\u001b[1;33m,\u001b[0m \u001b[0mFigure\u001b[0m\u001b[1;33m)\u001b[0m\u001b[1;33m\u001b[0m\u001b[0m\n\u001b[0;32m     45\u001b[0m     \u001b[0mthisFig\u001b[0m \u001b[1;33m=\u001b[0m \u001b[0mFigureClass\u001b[0m\u001b[1;33m(\u001b[0m\u001b[1;33m*\u001b[0m\u001b[0margs\u001b[0m\u001b[1;33m,\u001b[0m \u001b[1;33m**\u001b[0m\u001b[0mkwargs\u001b[0m\u001b[1;33m)\u001b[0m\u001b[1;33m\u001b[0m\u001b[0m\n\u001b[1;32m---> 46\u001b[1;33m     \u001b[1;32mreturn\u001b[0m \u001b[0mnew_figure_manager_given_figure\u001b[0m\u001b[1;33m(\u001b[0m\u001b[0mnum\u001b[0m\u001b[1;33m,\u001b[0m \u001b[0mthisFig\u001b[0m\u001b[1;33m)\u001b[0m\u001b[1;33m\u001b[0m\u001b[0m\n\u001b[0m\u001b[0;32m     47\u001b[0m \u001b[1;33m\u001b[0m\u001b[0m\n\u001b[0;32m     48\u001b[0m \u001b[1;33m\u001b[0m\u001b[0m\n",
      "\u001b[1;32m/home/sjtuiiot/ytjia/.pyenv/versions/anaconda3-4.0.0/lib/python3.5/site-packages/matplotlib/backends/backend_qt4agg.py\u001b[0m in \u001b[0;36mnew_figure_manager_given_figure\u001b[1;34m(num, figure)\u001b[0m\n\u001b[0;32m     51\u001b[0m     \u001b[0mCreate\u001b[0m \u001b[0ma\u001b[0m \u001b[0mnew\u001b[0m \u001b[0mfigure\u001b[0m \u001b[0mmanager\u001b[0m \u001b[0minstance\u001b[0m \u001b[1;32mfor\u001b[0m \u001b[0mthe\u001b[0m \u001b[0mgiven\u001b[0m \u001b[0mfigure\u001b[0m\u001b[1;33m.\u001b[0m\u001b[1;33m\u001b[0m\u001b[0m\n\u001b[0;32m     52\u001b[0m     \"\"\"\n\u001b[1;32m---> 53\u001b[1;33m     \u001b[0mcanvas\u001b[0m \u001b[1;33m=\u001b[0m \u001b[0mFigureCanvasQTAgg\u001b[0m\u001b[1;33m(\u001b[0m\u001b[0mfigure\u001b[0m\u001b[1;33m)\u001b[0m\u001b[1;33m\u001b[0m\u001b[0m\n\u001b[0m\u001b[0;32m     54\u001b[0m     \u001b[1;32mreturn\u001b[0m \u001b[0mFigureManagerQT\u001b[0m\u001b[1;33m(\u001b[0m\u001b[0mcanvas\u001b[0m\u001b[1;33m,\u001b[0m \u001b[0mnum\u001b[0m\u001b[1;33m)\u001b[0m\u001b[1;33m\u001b[0m\u001b[0m\n\u001b[0;32m     55\u001b[0m \u001b[1;33m\u001b[0m\u001b[0m\n",
      "\u001b[1;32m/home/sjtuiiot/ytjia/.pyenv/versions/anaconda3-4.0.0/lib/python3.5/site-packages/matplotlib/backends/backend_qt4agg.py\u001b[0m in \u001b[0;36m__init__\u001b[1;34m(self, figure)\u001b[0m\n\u001b[0;32m     74\u001b[0m         \u001b[1;32mif\u001b[0m \u001b[0mDEBUG\u001b[0m\u001b[1;33m:\u001b[0m\u001b[1;33m\u001b[0m\u001b[0m\n\u001b[0;32m     75\u001b[0m             \u001b[0mprint\u001b[0m\u001b[1;33m(\u001b[0m\u001b[1;34m'FigureCanvasQtAgg: '\u001b[0m\u001b[1;33m,\u001b[0m \u001b[0mfigure\u001b[0m\u001b[1;33m)\u001b[0m\u001b[1;33m\u001b[0m\u001b[0m\n\u001b[1;32m---> 76\u001b[1;33m         \u001b[0mFigureCanvasQT\u001b[0m\u001b[1;33m.\u001b[0m\u001b[0m__init__\u001b[0m\u001b[1;33m(\u001b[0m\u001b[0mself\u001b[0m\u001b[1;33m,\u001b[0m \u001b[0mfigure\u001b[0m\u001b[1;33m)\u001b[0m\u001b[1;33m\u001b[0m\u001b[0m\n\u001b[0m\u001b[0;32m     77\u001b[0m         \u001b[0mFigureCanvasQTAggBase\u001b[0m\u001b[1;33m.\u001b[0m\u001b[0m__init__\u001b[0m\u001b[1;33m(\u001b[0m\u001b[0mself\u001b[0m\u001b[1;33m,\u001b[0m \u001b[0mfigure\u001b[0m\u001b[1;33m)\u001b[0m\u001b[1;33m\u001b[0m\u001b[0m\n\u001b[0;32m     78\u001b[0m         \u001b[0mFigureCanvasAgg\u001b[0m\u001b[1;33m.\u001b[0m\u001b[0m__init__\u001b[0m\u001b[1;33m(\u001b[0m\u001b[0mself\u001b[0m\u001b[1;33m,\u001b[0m \u001b[0mfigure\u001b[0m\u001b[1;33m)\u001b[0m\u001b[1;33m\u001b[0m\u001b[0m\n",
      "\u001b[1;32m/home/sjtuiiot/ytjia/.pyenv/versions/anaconda3-4.0.0/lib/python3.5/site-packages/matplotlib/backends/backend_qt4.py\u001b[0m in \u001b[0;36m__init__\u001b[1;34m(self, figure)\u001b[0m\n\u001b[0;32m     66\u001b[0m         \u001b[1;32mif\u001b[0m \u001b[0mDEBUG\u001b[0m\u001b[1;33m:\u001b[0m\u001b[1;33m\u001b[0m\u001b[0m\n\u001b[0;32m     67\u001b[0m             \u001b[0mprint\u001b[0m\u001b[1;33m(\u001b[0m\u001b[1;34m'FigureCanvasQt qt4: '\u001b[0m\u001b[1;33m,\u001b[0m \u001b[0mfigure\u001b[0m\u001b[1;33m)\u001b[0m\u001b[1;33m\u001b[0m\u001b[0m\n\u001b[1;32m---> 68\u001b[1;33m         \u001b[0m_create_qApp\u001b[0m\u001b[1;33m(\u001b[0m\u001b[1;33m)\u001b[0m\u001b[1;33m\u001b[0m\u001b[0m\n\u001b[0m\u001b[0;32m     69\u001b[0m \u001b[1;33m\u001b[0m\u001b[0m\n\u001b[0;32m     70\u001b[0m         \u001b[1;31m# Note different super-calling style to backend_qt5\u001b[0m\u001b[1;33m\u001b[0m\u001b[1;33m\u001b[0m\u001b[0m\n",
      "\u001b[1;32m/home/sjtuiiot/ytjia/.pyenv/versions/anaconda3-4.0.0/lib/python3.5/site-packages/matplotlib/backends/backend_qt5.py\u001b[0m in \u001b[0;36m_create_qApp\u001b[1;34m()\u001b[0m\n\u001b[0;32m    136\u001b[0m                 \u001b[0mdisplay\u001b[0m \u001b[1;33m=\u001b[0m \u001b[0mos\u001b[0m\u001b[1;33m.\u001b[0m\u001b[0menviron\u001b[0m\u001b[1;33m.\u001b[0m\u001b[0mget\u001b[0m\u001b[1;33m(\u001b[0m\u001b[1;34m'DISPLAY'\u001b[0m\u001b[1;33m)\u001b[0m\u001b[1;33m\u001b[0m\u001b[0m\n\u001b[0;32m    137\u001b[0m                 \u001b[1;32mif\u001b[0m \u001b[0mdisplay\u001b[0m \u001b[1;32mis\u001b[0m \u001b[1;32mNone\u001b[0m \u001b[1;32mor\u001b[0m \u001b[1;32mnot\u001b[0m \u001b[0mre\u001b[0m\u001b[1;33m.\u001b[0m\u001b[0msearch\u001b[0m\u001b[1;33m(\u001b[0m\u001b[1;34m':\\d'\u001b[0m\u001b[1;33m,\u001b[0m \u001b[0mdisplay\u001b[0m\u001b[1;33m)\u001b[0m\u001b[1;33m:\u001b[0m\u001b[1;33m\u001b[0m\u001b[0m\n\u001b[1;32m--> 138\u001b[1;33m                     \u001b[1;32mraise\u001b[0m \u001b[0mRuntimeError\u001b[0m\u001b[1;33m(\u001b[0m\u001b[1;34m'Invalid DISPLAY variable'\u001b[0m\u001b[1;33m)\u001b[0m\u001b[1;33m\u001b[0m\u001b[0m\n\u001b[0m\u001b[0;32m    139\u001b[0m \u001b[1;33m\u001b[0m\u001b[0m\n\u001b[0;32m    140\u001b[0m             \u001b[0mqApp\u001b[0m \u001b[1;33m=\u001b[0m \u001b[0mQtWidgets\u001b[0m\u001b[1;33m.\u001b[0m\u001b[0mQApplication\u001b[0m\u001b[1;33m(\u001b[0m\u001b[1;33m[\u001b[0m\u001b[0mstr\u001b[0m\u001b[1;33m(\u001b[0m\u001b[1;34m\" \"\u001b[0m\u001b[1;33m)\u001b[0m\u001b[1;33m]\u001b[0m\u001b[1;33m)\u001b[0m\u001b[1;33m\u001b[0m\u001b[0m\n",
      "\u001b[1;31mRuntimeError\u001b[0m: Invalid DISPLAY variable"
     ]
    }
   ],
   "source": [
    "import numpy as np\n",
    "author_fos = {}\n",
    "maxlen = 0\n",
    "maxlen_name = ''\n",
    "for k, v in res_dict.items():\n",
    "    author_fos[len(v)] = author_fos.get(len(v), 0) + 1\n",
    "    if len(v) > maxlen:\n",
    "        maxlen = len(v)\n",
    "        maxlen_name = k\n",
    "fos_freq = sorted(author_fos.items(), key = lambda item:item[0])\n",
    "fos_freq_x = [item[0] for item in fos_freq]\n",
    "fos_freq_y = [item[1] for item in fos_freq]\n",
    "# print (maxlen_name, maxlen)\n",
    "# print (fos_freq_x)\n",
    "# print (fos_freq_y)\n",
    "print (author_fos.keys())\n",
    "plt.hist(author_fos.keys())\n",
    "# plt.bar(fos_freq_x, fos_freq_y, align='center')\n",
    "# plt.xlabel('Grade')\n",
    "# plt.ylabel('Frequency')\n",
    "# plt.title('Frequency of FOS per name')\n",
    "# plt.show()"
   ]
  },
  {
   "cell_type": "code",
   "execution_count": 19,
   "metadata": {
    "collapsed": false
   },
   "outputs": [
    {
     "data": {
      "text/plain": [
       "(array([  3.67000000e+03,   1.50300000e+03,   8.41000000e+02,\n",
       "          5.40000000e+02,   3.21000000e+02,   2.17000000e+02,\n",
       "          1.36000000e+02,   1.08000000e+02,   7.50000000e+01,\n",
       "          5.90000000e+01,   4.90000000e+01,   3.60000000e+01,\n",
       "          3.00000000e+01,   2.50000000e+01,   1.70000000e+01,\n",
       "          2.00000000e+01,   1.30000000e+01,   2.00000000e+01,\n",
       "          2.30000000e+01,   1.40000000e+01,   1.30000000e+01,\n",
       "          1.40000000e+01,   1.90000000e+01,   1.20000000e+01,\n",
       "          7.00000000e+00,   7.00000000e+00,   9.00000000e+00,\n",
       "          9.00000000e+00,   2.00000000e+00,   8.00000000e+00,\n",
       "          6.00000000e+00,   5.00000000e+00,   2.00000000e+00,\n",
       "          7.00000000e+00,   8.00000000e+00,   3.00000000e+00,\n",
       "          3.00000000e+00,   8.00000000e+00,   5.00000000e+00,\n",
       "          5.00000000e+00,   8.00000000e+00,   4.00000000e+00,\n",
       "          2.00000000e+00,   7.00000000e+00,   3.00000000e+00,\n",
       "          4.00000000e+00,   6.00000000e+00,   1.00000000e+00,\n",
       "          2.00000000e+00,   0.00000000e+00,   2.00000000e+00,\n",
       "          3.00000000e+00,   0.00000000e+00,   5.00000000e+00,\n",
       "          0.00000000e+00,   4.00000000e+00,   3.00000000e+00,\n",
       "          0.00000000e+00,   1.00000000e+00,   1.00000000e+00,\n",
       "          1.00000000e+00,   1.00000000e+00,   2.00000000e+00,\n",
       "          0.00000000e+00,   0.00000000e+00,   3.00000000e+00,\n",
       "          2.00000000e+00,   0.00000000e+00,   1.00000000e+00,\n",
       "          0.00000000e+00,   4.00000000e+00,   0.00000000e+00,\n",
       "          1.00000000e+00,   0.00000000e+00,   1.00000000e+00,\n",
       "          1.00000000e+00,   0.00000000e+00,   0.00000000e+00,\n",
       "          0.00000000e+00,   0.00000000e+00,   0.00000000e+00,\n",
       "          0.00000000e+00,   0.00000000e+00,   0.00000000e+00,\n",
       "          0.00000000e+00,   0.00000000e+00,   0.00000000e+00,\n",
       "          0.00000000e+00,   0.00000000e+00,   1.00000000e+00,\n",
       "          1.00000000e+00,   0.00000000e+00,   0.00000000e+00,\n",
       "          0.00000000e+00,   0.00000000e+00,   0.00000000e+00,\n",
       "          0.00000000e+00,   0.00000000e+00,   0.00000000e+00,\n",
       "          1.00000000e+00]),\n",
       " array([     0.  ,    335.09,    670.18,   1005.27,   1340.36,   1675.45,\n",
       "          2010.54,   2345.63,   2680.72,   3015.81,   3350.9 ,   3685.99,\n",
       "          4021.08,   4356.17,   4691.26,   5026.35,   5361.44,   5696.53,\n",
       "          6031.62,   6366.71,   6701.8 ,   7036.89,   7371.98,   7707.07,\n",
       "          8042.16,   8377.25,   8712.34,   9047.43,   9382.52,   9717.61,\n",
       "         10052.7 ,  10387.79,  10722.88,  11057.97,  11393.06,  11728.15,\n",
       "         12063.24,  12398.33,  12733.42,  13068.51,  13403.6 ,  13738.69,\n",
       "         14073.78,  14408.87,  14743.96,  15079.05,  15414.14,  15749.23,\n",
       "         16084.32,  16419.41,  16754.5 ,  17089.59,  17424.68,  17759.77,\n",
       "         18094.86,  18429.95,  18765.04,  19100.13,  19435.22,  19770.31,\n",
       "         20105.4 ,  20440.49,  20775.58,  21110.67,  21445.76,  21780.85,\n",
       "         22115.94,  22451.03,  22786.12,  23121.21,  23456.3 ,  23791.39,\n",
       "         24126.48,  24461.57,  24796.66,  25131.75,  25466.84,  25801.93,\n",
       "         26137.02,  26472.11,  26807.2 ,  27142.29,  27477.38,  27812.47,\n",
       "         28147.56,  28482.65,  28817.74,  29152.83,  29487.92,  29823.01,\n",
       "         30158.1 ,  30493.19,  30828.28,  31163.37,  31498.46,  31833.55,\n",
       "         32168.64,  32503.73,  32838.82,  33173.91,  33509.  ]),\n",
       " <a list of 100 Patch objects>)"
      ]
     },
     "execution_count": 19,
     "metadata": {},
     "output_type": "execute_result"
    },
    {
     "data": {
      "image/png": "[encoded data removed]",
      "text/plain": [
       "<matplotlib.figure.Figure at 0x7f6e10f70278>"
      ]
     },
     "metadata": {},
     "output_type": "display_data"
    }
   ],
   "source": [
    "author_fos_f = []\n",
    "for k, v in res_dict.items():\n",
    "    author_fos_f.append(len(v))\n",
    "plt.hist(np.array(author_fos_f), bins=100)"
   ]
  },
  {
   "cell_type": "code",
   "execution_count": null,
   "metadata": {
    "collapsed": true
   },
   "outputs": [],
   "source": []
  }
 ],
 "metadata": {
  "kernelspec": {
   "display_name": "Python 3",
   "language": "python",
   "name": "python3"
  },
  "language_info": {
   "codemirror_mode": {
    "name": "ipython",
    "version": 3
   },
   "file_extension": ".py",
   "mimetype": "text/x-python",
   "name": "python",
   "nbconvert_exporter": "python",
   "pygments_lexer": "ipython3",
   "version": "3.5.3"
  }
 },
 "nbformat": 4,
 "nbformat_minor": 0
}
