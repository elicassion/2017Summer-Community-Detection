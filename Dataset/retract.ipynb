{
 "cells": [
  {
   "cell_type": "code",
   "execution_count": 1,
   "metadata": {
    "collapsed": true
   },
   "outputs": [],
   "source": [
    "%matplotlib inline\n",
    "import pymysql\n",
    "import os\n",
    "import re\n",
    "import copy\n",
    "import matplotlib.pyplot as plt\n",
    "from nltk.corpus import stopwords\n",
    "from lxml import etree\n",
    "import json\n",
    "import time"
   ]
  },
  {
   "cell_type": "code",
   "execution_count": 2,
   "metadata": {
    "collapsed": true
   },
   "outputs": [],
   "source": [
    "connection = pymysql.connect(host='127.0.0.1',\n",
    "                             user='data',\n",
    "                             password='data',\n",
    "                             db='mag-new-160205',\n",
    "                             charset='utf8mb4',\n",
    "                             port=3306,\n",
    "                             cursorclass=pymysql.cursors.DictCursor)\n",
    "cursor = connection.cursor()"
   ]
  },
  {
   "cell_type": "code",
   "execution_count": 3,
   "metadata": {
    "collapsed": false
   },
   "outputs": [
    {
     "name": "stdout",
     "output_type": "stream",
     "text": [
      "['029B563A', '01FC846D', '033045F8', '04070FF5', '046EA3D1', '0591FD6D', '1EB30002', '0BB0A681', '0744EB4E', '0879F658', '03F2F0C0', '0926846B', '075E15C9', '04C9F7A2', '06D68CA5', '03DB493E', '076E53C1', '0C093D35', '04545194', '08451491', '057756EF', '081EA913', '04C96ED8', '0711B10D', '09D229B9', '1F38619E', '037DE118', '03F1453F', '0105DB26', '0337EB8B', '039FC1C7', '04B7DC9B', '06DDCEF8', '09FBA356', '08F88A3E', '0995F4C9']\n"
     ]
    }
   ],
   "source": [
    "cursor.execute(\"SELECT ChildFieldOfStudyID FROM FieldOfStudyHierarchy WHERE ParentFieldOfStudyID = '002A39F6'\")\n",
    "child_fos = []\n",
    "for row in cursor.fetchall():\n",
    "    child_fos.append(row['ChildFieldOfStudyID'])\n",
    "print (child_fos)"
   ]
  },
  {
   "cell_type": "code",
   "execution_count": 10,
   "metadata": {
    "collapsed": false
   },
   "outputs": [
    {
     "name": "stdout",
     "output_type": "stream",
     "text": [
      "0.031627655029296875\n",
      "0\n"
     ]
    }
   ],
   "source": [
    "for fos in child_fos:\n",
    "    st = time.time()\n",
    "    cursor.execute(\"SELECT PaperID FROM PaperKeywords WHERE FieldOfStudyIDMappedToKeyword = '%s'\" % fos)\n",
    "    print (time.time() - st)\n",
    "    print (len(cursor.fetchall()))\n",
    "    break"
   ]
  },
  {
   "cell_type": "code",
   "execution_count": 6,
   "metadata": {
    "collapsed": false
   },
   "outputs": [
    {
     "name": "stdout",
     "output_type": "stream",
     "text": [
      "0.0009601116180419922\n",
      "0\n"
     ]
    }
   ],
   "source": [
    "for fos in child_fos:\n",
    "    st = time.time()\n",
    "    cursor.execute(\"SELECT PaperID, PaperReferenceID FROM PaperReferences WHERE PaperID IN (SELECT PaperID FROM PaperFieldRank WHERE FieldID = '%s')\" % fos)\n",
    "    print (time.time() - st)\n",
    "    print (len(cursor.fetchall()))\n",
    "    break"
   ]
  },
  {
   "cell_type": "code",
   "execution_count": null,
   "metadata": {
    "collapsed": true
   },
   "outputs": [],
   "source": []
  }
 ],
 "metadata": {
  "kernelspec": {
   "display_name": "Python 3",
   "language": "python",
   "name": "python3"
  },
  "language_info": {
   "codemirror_mode": {
    "name": "ipython",
    "version": 3
   },
   "file_extension": ".py",
   "mimetype": "text/x-python",
   "name": "python",
   "nbconvert_exporter": "python",
   "pygments_lexer": "ipython3",
   "version": "3.5.3"
  }
 },
 "nbformat": 4,
 "nbformat_minor": 0
}
