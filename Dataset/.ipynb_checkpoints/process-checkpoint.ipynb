{
 "cells": [
  {
   "cell_type": "code",
   "execution_count": null,
   "metadata": {
    "collapsed": true
   },
   "outputs": [],
   "source": [
    "import pymysql\n",
    "import os\n",
    "import re\n",
    "import copy\n",
    "import matplotlib.pyplot as plt\n",
    "from nltk.corpus import stopwords\n",
    "from lxml import etree\n",
    "import json"
   ]
  },
  {
   "cell_type": "code",
   "execution_count": null,
   "metadata": {
    "collapsed": true
   },
   "outputs": [],
   "source": [
    "connection = pymysql.connect(host='127.0.0.1',\n",
    "                             user='data',\n",
    "                             password='data',\n",
    "                             db='mag-new-160205',\n",
    "                             charset='utf8mb4',\n",
    "                             port=3306,\n",
    "                             cursorclass=pymysql.cursors.DictCursor)\n",
    "cursor = connection.cursor()"
   ]
  },
  {
   "cell_type": "code",
   "execution_count": null,
   "metadata": {
    "collapsed": false
   },
   "outputs": [],
   "source": [
    "author_name_set = set()\n",
    "link_data = open('data/links_10000.txt')\n",
    "for line in link_data:\n",
    "    aus = line.split('\\t')[:2]\n",
    "    for au in aus:\n",
    "        author_name_set.add(au.replace('_', ' '))\n",
    "print (len(author_name_set))"
   ]
  },
  {
   "cell_type": "code",
   "execution_count": null,
   "metadata": {
    "collapsed": false
   },
   "outputs": [],
   "source": [
    "search_id_str = \"SELECT AuthorID FROM Authors WHERE AuthorName = '%s'\"\n",
    "# search_fos_str = \"SELECT AuthorFOS.FieldOfStudyIDMappedToKeyword, \\\n",
    "#                                 FieldsOfStudy.FieldsOfStudyName, \\\n",
    "#                                 FieldsOfStudy.FieldsOfStudyLevel \\\n",
    "#                                 FROM AuthorFOS, FieldsOfStudy WHERE \\\n",
    "#                                 AuthorFOS.AuthorID = '%s' and FieldsOfStudy.FieldsOfStudyID = AuthorFOS.FieldOfStudyIDMappedToKeyword\"\n",
    "search_fos_str = \"SELECT FieldOfStudyIDMappedToKeyword \\\n",
    "                                FROM AuthorFOS WHERE \\\n",
    "                                AuthorID = '%s' \"\n",
    "res_dict = {}\n",
    "for i, au in enumerate(author_name_set):\n",
    "#     print (search_id_str % au)\n",
    "    if (i+1)%100 == 0:\n",
    "        print (i+1)\n",
    "    cursor.execute(search_id_str % au)\n",
    "    id_res = cursor.fetchall()\n",
    "    print ('len idres', len(id_res))\n",
    "    if id_res:\n",
    "        for id_row in id_res:\n",
    "            print ('idrow', id_row)\n",
    "            res_dict[id_row['AuthorID']] = []\n",
    "            cursor.execute(search_fos_str % id_row['AuthorID'])\n",
    "            fos_res = cursor.fetchall()\n",
    "            print ('len fos_res', len(fos_res))\n",
    "            if fos_res:\n",
    "                for fos_row in fos_res:\n",
    "                    print ('fos_row', fos_row)\n",
    "                    res_dict[id_row['AuthorID']].append(fos_row['FieldOfStudyIDMappedToKeyword'])\n",
    "#                     print (fos_row['FieldOfStudyIDMappedToKeyword'])\n",
    "    break\n"
   ]
  },
  {
   "cell_type": "code",
   "execution_count": null,
   "metadata": {
    "collapsed": true
   },
   "outputs": [],
   "source": []
  }
 ],
 "metadata": {
  "kernelspec": {
   "display_name": "Python 3",
   "language": "python",
   "name": "python3"
  },
  "language_info": {
   "codemirror_mode": {
    "name": "ipython",
    "version": 3
   },
   "file_extension": ".py",
   "mimetype": "text/x-python",
   "name": "python",
   "nbconvert_exporter": "python",
   "pygments_lexer": "ipython3",
   "version": "3.5.3"
  }
 },
 "nbformat": 4,
 "nbformat_minor": 0
}
