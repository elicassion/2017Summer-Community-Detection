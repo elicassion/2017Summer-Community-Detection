{
 "cells": [
  {
   "cell_type": "code",
   "execution_count": 1,
   "metadata": {
    "collapsed": true
   },
   "outputs": [],
   "source": [
    "%matplotlib inline\n",
    "import pymysql\n",
    "import os\n",
    "import re\n",
    "import copy\n",
    "import matplotlib.pyplot as plt\n",
    "from nltk.corpus import stopwords\n",
    "from lxml import etree\n",
    "import json\n",
    "import time\n",
    "import numpy as np"
   ]
  },
  {
   "cell_type": "code",
   "execution_count": 18,
   "metadata": {
    "collapsed": true
   },
   "outputs": [],
   "source": [
    "connection = pymysql.connect(host='127.0.0.1',\n",
    "                             user='data',\n",
    "                             password='data',\n",
    "                             db='mag-new-160205',\n",
    "                             charset='utf8mb4',\n",
    "                             port=3306,\n",
    "                             cursorclass=pymysql.cursors.DictCursor)\n",
    "cursor = connection.cursor()"
   ]
  },
  {
   "cell_type": "code",
   "execution_count": 3,
   "metadata": {
    "collapsed": true
   },
   "outputs": [],
   "source": [
    "def load_result(cursor, container, name):\n",
    "    for row in cursor.fetchall():\n",
    "        container.append(row[name])\n",
    "    return container"
   ]
  },
  {
   "cell_type": "code",
   "execution_count": 4,
   "metadata": {
    "collapsed": true
   },
   "outputs": [],
   "source": [
    "conference = 'AAAI'\n",
    "cursor.execute(\"SELECT ConferenceSeriesID FROM ConferenceSeries WHERE ShortName = '%s'\" % conference)\n",
    "conferenceID = cursor.fetchall()[0]['ConferenceSeriesID']"
   ]
  },
  {
   "cell_type": "code",
   "execution_count": 5,
   "metadata": {
    "collapsed": false
   },
   "outputs": [
    {
     "name": "stdout",
     "output_type": "stream",
     "text": [
      "12131\n"
     ]
    }
   ],
   "source": [
    "cursor.execute(\"SELECT PaperID, PaperPublishYear FROM Papers WHERE ConferenceSeriesIDMappedToVenueName = '%s'\" % conferenceID)\n",
    "pid_ptime_pairs = []\n",
    "for row in cursor.fetchall():\n",
    "    pid_ptime_pairs.append((row['PaperID'], row['PaperPublishYear']))\n",
    "print (len(pid_ptime_pairs))"
   ]
  },
  {
   "cell_type": "code",
   "execution_count": 7,
   "metadata": {
    "collapsed": false
   },
   "outputs": [
    {
     "name": "stdout",
     "output_type": "stream",
     "text": [
      "Searching Time: 8.331, Co-author item count: 88516\n"
     ]
    }
   ],
   "source": [
    "co_au = {}\n",
    "co_count = 0\n",
    "st_coau = time.time()\n",
    "for pid, ptime in pid_ptime_pairs:\n",
    "    cursor.execute(\"SELECT AuthorID FROM PaperAuthorAffiliations WHERE PaperID = '%s'\" % pid)\n",
    "    aus = []\n",
    "    load_result(cursor, aus, 'AuthorID')\n",
    "    for au in aus:\n",
    "        if au not in co_au.keys():\n",
    "            co_au[au] = {}\n",
    "        for cau in aus:\n",
    "            if au  == cau:\n",
    "                continue\n",
    "            if cau not in co_au[au].keys():\n",
    "                co_au[au][cau] = []\n",
    "            co_au[au][cau].append(ptime)\n",
    "            co_count += 1\n",
    "print (\"Searching Time: %.3f, Co-author item count: %d\" % (time.time() - st_coau, co_count))\n"
   ]
  },
  {
   "cell_type": "code",
   "execution_count": 14,
   "metadata": {
    "collapsed": true
   },
   "outputs": [],
   "source": [
    "def export_co_author(co_dict, exdir):\n",
    "    if not os.path.exists(exdir):\n",
    "        os.makedirs(exdir)\n",
    "    filename = os.path.join(exdir, 'link.txt')\n",
    "    f = open(filename, 'w')\n",
    "    for au in co_dict.keys():\n",
    "        if not co_dict[au]:\n",
    "            f.write(au+'\\n')\n",
    "            continue\n",
    "        f.write(au+'\\t')\n",
    "        for cau in co_dict[au].keys():\n",
    "            f.write(cau+'\\t')\n",
    "            for i in range(len(co_dict[au][cau])-1):\n",
    "                f.write(str(co_dict[au][cau][i])+ ' ' + str(co_dict[au][cau][i])+'\\t')\n",
    "            f.write(str(co_dict[au][cau][-1]) + ' ' + str(co_dict[au][cau][-1])+'\\n')\n",
    "    f.close()\n",
    "    print (\"export %s.\" % filename)"
   ]
  },
  {
   "cell_type": "code",
   "execution_count": 15,
   "metadata": {
    "collapsed": false
   },
   "outputs": [
    {
     "name": "stdout",
     "output_type": "stream",
     "text": [
      "export data/coau/AAAI/link.txt.\n"
     ]
    }
   ],
   "source": [
    "export_co_author(co_au, 'data/coau/%s' % conference)"
   ]
  },
  {
   "cell_type": "code",
   "execution_count": 16,
   "metadata": {
    "collapsed": false
   },
   "outputs": [
    {
     "name": "stdout",
     "output_type": "stream",
     "text": [
      "author number: 19226\n"
     ]
    }
   ],
   "source": [
    "au_set = set()\n",
    "for au in co_au.keys():\n",
    "    au_set.add(au)\n",
    "    for rau in co_au[au].keys():\n",
    "        au_set.add(rau)\n",
    "print (\"author number: %d\" % len(au_set))"
   ]
  },
  {
   "cell_type": "code",
   "execution_count": 19,
   "metadata": {
    "collapsed": false
   },
   "outputs": [],
   "source": [
    "au_fos_all = [{}, {}, {}, {}]\n",
    "au_fos_count = [[],[],[],[]]\n",
    "for i in range(4):\n",
    "    for au in au_set:\n",
    "        cursor.execute(\"SELECT AuthorFOS.FieldOfStudyIDMappedToKeyword \\\n",
    "                                    FROM AuthorFOS, FieldsOfStudy WHERE \\\n",
    "                                    AuthorFOS.AuthorID = '%s' and FieldsOfStudy.FieldsOfStudyID = AuthorFOS.FieldOfStudyIDMappedToKeyword and \\\n",
    "                                    FieldsOfStudy.FieldsOfStudyLevel = 'L%d' \" % (au, i))\n",
    "        fos = []\n",
    "        load_result(cursor, fos, 'FieldOfStudyIDMappedToKeyword')\n",
    "        au_fos_all[i][au]  = fos\n",
    "        au_fos_count[i].append(len(fos))"
   ]
  },
  {
   "cell_type": "code",
   "execution_count": 20,
   "metadata": {
    "collapsed": false
   },
   "outputs": [
    {
     "data": {
      "text/plain": [
       "(array([ 11757.,   2573.,   1309.,   1182.,    784.,    633.,    441.,\n",
       "           290.,    209.,     48.]),\n",
       " array([  0. ,   1.9,   3.8,   5.7,   7.6,   9.5,  11.4,  13.3,  15.2,\n",
       "         17.1,  19. ]),\n",
       " <a list of 10 Patch objects>)"
      ]
     },
     "execution_count": 20,
     "metadata": {},
     "output_type": "execute_result"
    },
    {
     "data": {
      "image/png": "[encoded data removed]",
      "text/plain": [
       "<matplotlib.figure.Figure at 0x7f07c6bfe710>"
      ]
     },
     "metadata": {},
     "output_type": "display_data"
    }
   ],
   "source": [
    "plt.hist(np.array(au_fos_count[0]), bins=10)"
   ]
  },
  {
   "cell_type": "code",
   "execution_count": 21,
   "metadata": {
    "collapsed": false
   },
   "outputs": [
    {
     "data": {
      "text/plain": [
       "(array([  1.49800000e+04,   2.75900000e+03,   9.13000000e+02,\n",
       "          3.42000000e+02,   1.51000000e+02,   5.30000000e+01,\n",
       "          2.10000000e+01,   6.00000000e+00,   0.00000000e+00,\n",
       "          1.00000000e+00]),\n",
       " array([   0.,   25.,   50.,   75.,  100.,  125.,  150.,  175.,  200.,\n",
       "         225.,  250.]),\n",
       " <a list of 10 Patch objects>)"
      ]
     },
     "execution_count": 21,
     "metadata": {},
     "output_type": "execute_result"
    },
    {
     "data": {
      "image/png": "[encoded data removed]",
      "text/plain": [
       "<matplotlib.figure.Figure at 0x7f07c6bfe588>"
      ]
     },
     "metadata": {},
     "output_type": "display_data"
    }
   ],
   "source": [
    "plt.hist(np.array(au_fos_count[1]), bins=10)"
   ]
  },
  {
   "cell_type": "code",
   "execution_count": 22,
   "metadata": {
    "collapsed": false
   },
   "outputs": [
    {
     "data": {
      "text/plain": [
       "(array([  1.71010000e+04,   1.54600000e+03,   4.14000000e+02,\n",
       "          1.27000000e+02,   2.80000000e+01,   8.00000000e+00,\n",
       "          1.00000000e+00,   0.00000000e+00,   0.00000000e+00,\n",
       "          1.00000000e+00]),\n",
       " array([   0.,   82.,  164.,  246.,  328.,  410.,  492.,  574.,  656.,\n",
       "         738.,  820.]),\n",
       " <a list of 10 Patch objects>)"
      ]
     },
     "execution_count": 22,
     "metadata": {},
     "output_type": "execute_result"
    },
    {
     "data": {
      "image/png": "[encoded data removed]",
      "text/plain": [
       "<matplotlib.figure.Figure at 0x7f07b17484a8>"
      ]
     },
     "metadata": {},
     "output_type": "display_data"
    }
   ],
   "source": [
    "plt.hist(np.array(au_fos_count[2]), bins=10)"
   ]
  },
  {
   "cell_type": "code",
   "execution_count": 23,
   "metadata": {
    "collapsed": false
   },
   "outputs": [
    {
     "data": {
      "text/plain": [
       "(array([  1.84000000e+04,   5.98000000e+02,   1.51000000e+02,\n",
       "          4.60000000e+01,   2.00000000e+01,   5.00000000e+00,\n",
       "          4.00000000e+00,   1.00000000e+00,   0.00000000e+00,\n",
       "          1.00000000e+00]),\n",
       " array([     0. ,   1009.4,   2018.8,   3028.2,   4037.6,   5047. ,\n",
       "          6056.4,   7065.8,   8075.2,   9084.6,  10094. ]),\n",
       " <a list of 10 Patch objects>)"
      ]
     },
     "execution_count": 23,
     "metadata": {},
     "output_type": "execute_result"
    },
    {
     "data": {
      "image/png": "[encoded data removed]",
      "text/plain": [
       "<matplotlib.figure.Figure at 0x7f07b1744278>"
      ]
     },
     "metadata": {},
     "output_type": "display_data"
    }
   ],
   "source": [
    "plt.hist(np.array(au_fos_count[3]), bins=10)"
   ]
  },
  {
   "cell_type": "code",
   "execution_count": 24,
   "metadata": {
    "collapsed": true
   },
   "outputs": [],
   "source": [
    "def export_fos(fos_dicts, exdir):\n",
    "    if not os.path.exists(exdir):\n",
    "        os.makedirs(exdir)\n",
    "    for i in range(4):\n",
    "        filename = os.path.join(exdir, 'fos_L%d.txt' % i)\n",
    "        f = open(filename, 'w')\n",
    "        count = 0\n",
    "        for au in fos_dicts[i].keys():\n",
    "            if len(fos_dicts[i][au]) == 0:\n",
    "                f.write(au+'\\n')\n",
    "                continue\n",
    "            f.write(au+'\\t')\n",
    "            for j in range(len(fos_dicts[i][au])-1):\n",
    "                f.write(fos_dicts[i][au][j]+' ')\n",
    "            f.write(fos_dicts[i][au][-1]+'\\n')\n",
    "            count += len(fos_dicts[i][au])\n",
    "        f.close()\n",
    "        print (\"export %s: %d fos\" % (filename, count))"
   ]
  },
  {
   "cell_type": "code",
   "execution_count": 25,
   "metadata": {
    "collapsed": false
   },
   "outputs": [
    {
     "name": "stdout",
     "output_type": "stream",
     "text": [
      "export data/cite/AAAI/fos_L0.txt: 49626 fos\n",
      "export data/cite/AAAI/fos_L1.txt: 298523 fos\n",
      "export data/cite/AAAI/fos_L2.txt: 562253 fos\n",
      "export data/cite/AAAI/fos_L3.txt: 3658695 fos\n"
     ]
    }
   ],
   "source": [
    "export_fos(au_fos_all, 'data/cite/%s' % conference)"
   ]
  },
  {
   "cell_type": "code",
   "execution_count": null,
   "metadata": {
    "collapsed": true
   },
   "outputs": [],
   "source": []
  }
 ],
 "metadata": {
  "kernelspec": {
   "display_name": "Python 3",
   "language": "python",
   "name": "python3"
  },
  "language_info": {
   "codemirror_mode": {
    "name": "ipython",
    "version": 3
   },
   "file_extension": ".py",
   "mimetype": "text/x-python",
   "name": "python",
   "nbconvert_exporter": "python",
   "pygments_lexer": "ipython3",
   "version": "3.5.3"
  }
 },
 "nbformat": 4,
 "nbformat_minor": 0
}
