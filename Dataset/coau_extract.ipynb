{
 "cells": [
  {
   "cell_type": "code",
   "execution_count": 1,
   "metadata": {
    "collapsed": true
   },
   "outputs": [],
   "source": [
    "%matplotlib inline\n",
    "import pymysql\n",
    "import os\n",
    "import re\n",
    "import copy\n",
    "import matplotlib.pyplot as plt\n",
    "from nltk.corpus import stopwords\n",
    "from lxml import etree\n",
    "import json\n",
    "import time\n",
    "import numpy as np"
   ]
  },
  {
   "cell_type": "code",
   "execution_count": 18,
   "metadata": {
    "collapsed": true
   },
   "outputs": [],
   "source": [
    "connection = pymysql.connect(host='127.0.0.1',\n",
    "                             user='data',\n",
    "                             password='data',\n",
    "                             db='mag-new-160205',\n",
    "                             charset='utf8mb4',\n",
    "                             port=3306,\n",
    "                             cursorclass=pymysql.cursors.DictCursor)\n",
    "cursor = connection.cursor()"
   ]
  },
  {
   "cell_type": "code",
   "execution_count": 3,
   "metadata": {
    "collapsed": true
   },
   "outputs": [],
   "source": [
    "def load_result(cursor, container, name):\n",
    "    for row in cursor.fetchall():\n",
    "        container.append(row[name])\n",
    "    return container"
   ]
  },
  {
   "cell_type": "code",
   "execution_count": 39,
   "metadata": {
    "collapsed": true
   },
   "outputs": [],
   "source": [
    "conference = 'SIGCOMM'\n",
    "cursor.execute(\"SELECT ConferenceSeriesID FROM ConferenceSeries WHERE ShortName = '%s'\" % conference)\n",
    "conferenceID = cursor.fetchall()[0]['ConferenceSeriesID']"
   ]
  },
  {
   "cell_type": "code",
   "execution_count": 40,
   "metadata": {
    "collapsed": false
   },
   "outputs": [
    {
     "name": "stdout",
     "output_type": "stream",
     "text": [
      "4421\n"
     ]
    }
   ],
   "source": [
    "cursor.execute(\"SELECT PaperID, PaperPublishYear FROM Papers WHERE ConferenceSeriesIDMappedToVenueName = '%s'\" % conferenceID)\n",
    "pid_ptime_pairs = []\n",
    "for row in cursor.fetchall():\n",
    "    pid_ptime_pairs.append((row['PaperID'], row['PaperPublishYear']))\n",
    "print (len(pid_ptime_pairs))"
   ]
  },
  {
   "cell_type": "code",
   "execution_count": 41,
   "metadata": {
    "collapsed": false
   },
   "outputs": [
    {
     "name": "stdout",
     "output_type": "stream",
     "text": [
      "Searching Time: 3.047, Co-author item count: 51568\n"
     ]
    }
   ],
   "source": [
    "co_au = {}\n",
    "co_count = 0\n",
    "st_coau = time.time()\n",
    "for pid, ptime in pid_ptime_pairs:\n",
    "    cursor.execute(\"SELECT AuthorID FROM PaperAuthorAffiliations WHERE PaperID = '%s'\" % pid)\n",
    "    aus = []\n",
    "    load_result(cursor, aus, 'AuthorID')\n",
    "    for au in aus:\n",
    "        if au not in co_au.keys():\n",
    "            co_au[au] = {}\n",
    "        for cau in aus:\n",
    "            if au  == cau:\n",
    "                continue\n",
    "            if cau not in co_au[au].keys():\n",
    "                co_au[au][cau] = []\n",
    "            co_au[au][cau].append(ptime)\n",
    "            co_count += 1\n",
    "print (\"Searching Time: %.3f, Co-author item count: %d\" % (time.time() - st_coau, co_count))\n"
   ]
  },
  {
   "cell_type": "code",
   "execution_count": 42,
   "metadata": {
    "collapsed": true
   },
   "outputs": [],
   "source": [
    "def export_co_author(co_dict, exdir):\n",
    "    if not os.path.exists(exdir):\n",
    "        os.makedirs(exdir)\n",
    "    filename = os.path.join(exdir, 'link.txt')\n",
    "    f = open(filename, 'w')\n",
    "    for au in co_dict.keys():\n",
    "        if not co_dict[au]:\n",
    "            f.write(au+'\\n')\n",
    "            continue\n",
    "        f.write(au+'\\t')\n",
    "        for cau in co_dict[au].keys():\n",
    "            f.write(cau+'\\t')\n",
    "            for i in range(len(co_dict[au][cau])-1):\n",
    "                f.write(str(co_dict[au][cau][i])+ ' ' + str(co_dict[au][cau][i])+'\\t')\n",
    "            f.write(str(co_dict[au][cau][-1]) + ' ' + str(co_dict[au][cau][-1])+'\\n')\n",
    "    f.close()\n",
    "    print (\"export %s.\" % filename)"
   ]
  },
  {
   "cell_type": "code",
   "execution_count": 43,
   "metadata": {
    "collapsed": false
   },
   "outputs": [
    {
     "name": "stdout",
     "output_type": "stream",
     "text": [
      "export data/coau/SIGCOMM/link.txt.\n"
     ]
    }
   ],
   "source": [
    "export_co_author(co_au, 'data/coau/%s' % conference)"
   ]
  },
  {
   "cell_type": "code",
   "execution_count": 44,
   "metadata": {
    "collapsed": false
   },
   "outputs": [
    {
     "name": "stdout",
     "output_type": "stream",
     "text": [
      "author number: 8695\n"
     ]
    }
   ],
   "source": [
    "au_set = set()\n",
    "for au in co_au.keys():\n",
    "    au_set.add(au)\n",
    "    for rau in co_au[au].keys():\n",
    "        au_set.add(rau)\n",
    "print (\"author number: %d\" % len(au_set))"
   ]
  },
  {
   "cell_type": "code",
   "execution_count": 45,
   "metadata": {
    "collapsed": false
   },
   "outputs": [],
   "source": [
    "au_fos_all = [{}, {}, {}, {}]\n",
    "au_fos_count = [[],[],[],[]]\n",
    "for i in range(4):\n",
    "    for au in au_set:\n",
    "        cursor.execute(\"SELECT AuthorFOS.FieldOfStudyIDMappedToKeyword \\\n",
    "                                    FROM AuthorFOS, FieldsOfStudy WHERE \\\n",
    "                                    AuthorFOS.AuthorID = '%s' and FieldsOfStudy.FieldsOfStudyID = AuthorFOS.FieldOfStudyIDMappedToKeyword and \\\n",
    "                                    FieldsOfStudy.FieldsOfStudyLevel = 'L%d' \" % (au, i))\n",
    "        fos = []\n",
    "        load_result(cursor, fos, 'FieldOfStudyIDMappedToKeyword')\n",
    "        au_fos_all[i][au]  = fos\n",
    "        au_fos_count[i].append(len(fos))"
   ]
  },
  {
   "cell_type": "code",
   "execution_count": 46,
   "metadata": {
    "collapsed": false
   },
   "outputs": [
    {
     "data": {
      "text/plain": [
       "(array([ 5400.,  1366.,   681.,   432.,   315.,   198.,   149.,    87.,\n",
       "           56.,    11.]),\n",
       " array([  0. ,   1.9,   3.8,   5.7,   7.6,   9.5,  11.4,  13.3,  15.2,\n",
       "         17.1,  19. ]),\n",
       " <a list of 10 Patch objects>)"
      ]
     },
     "execution_count": 46,
     "metadata": {},
     "output_type": "execute_result"
    },
    {
     "data": {
      "image/png": "[encoded data removed]",
      "text/plain": [
       "<matplotlib.figure.Figure at 0x7f07bf594080>"
      ]
     },
     "metadata": {},
     "output_type": "display_data"
    }
   ],
   "source": [
    "plt.hist(np.array(au_fos_count[0]), bins=10)"
   ]
  },
  {
   "cell_type": "code",
   "execution_count": 47,
   "metadata": {
    "collapsed": false
   },
   "outputs": [
    {
     "data": {
      "text/plain": [
       "(array([  6.11500000e+03,   1.60000000e+03,   6.38000000e+02,\n",
       "          1.92000000e+02,   7.70000000e+01,   4.10000000e+01,\n",
       "          2.20000000e+01,   4.00000000e+00,   3.00000000e+00,\n",
       "          3.00000000e+00]),\n",
       " array([   0. ,   19.6,   39.2,   58.8,   78.4,   98. ,  117.6,  137.2,\n",
       "         156.8,  176.4,  196. ]),\n",
       " <a list of 10 Patch objects>)"
      ]
     },
     "execution_count": 47,
     "metadata": {},
     "output_type": "execute_result"
    },
    {
     "data": {
      "image/png": "[encoded data removed]",
      "text/plain": [
       "<matplotlib.figure.Figure at 0x7f07bea752e8>"
      ]
     },
     "metadata": {},
     "output_type": "display_data"
    }
   ],
   "source": [
    "plt.hist(np.array(au_fos_count[1]), bins=10)"
   ]
  },
  {
   "cell_type": "code",
   "execution_count": 48,
   "metadata": {
    "collapsed": false
   },
   "outputs": [
    {
     "data": {
      "text/plain": [
       "(array([  7.18600000e+03,   9.26000000e+02,   3.60000000e+02,\n",
       "          1.24000000e+02,   5.60000000e+01,   2.90000000e+01,\n",
       "          7.00000000e+00,   0.00000000e+00,   3.00000000e+00,\n",
       "          4.00000000e+00]),\n",
       " array([   0. ,   48.3,   96.6,  144.9,  193.2,  241.5,  289.8,  338.1,\n",
       "         386.4,  434.7,  483. ]),\n",
       " <a list of 10 Patch objects>)"
      ]
     },
     "execution_count": 48,
     "metadata": {},
     "output_type": "execute_result"
    },
    {
     "data": {
      "image/png": "[encoded data removed]",
      "text/plain": [
       "<matplotlib.figure.Figure at 0x7f07be3bd6a0>"
      ]
     },
     "metadata": {},
     "output_type": "display_data"
    }
   ],
   "source": [
    "plt.hist(np.array(au_fos_count[2]), bins=10)"
   ]
  },
  {
   "cell_type": "code",
   "execution_count": 49,
   "metadata": {
    "collapsed": false
   },
   "outputs": [
    {
     "data": {
      "text/plain": [
       "(array([  7.95800000e+03,   5.38000000e+02,   1.17000000e+02,\n",
       "          4.50000000e+01,   2.20000000e+01,   8.00000000e+00,\n",
       "          1.00000000e+00,   1.00000000e+00,   1.00000000e+00,\n",
       "          4.00000000e+00]),\n",
       " array([    0. ,   702.3,  1404.6,  2106.9,  2809.2,  3511.5,  4213.8,\n",
       "         4916.1,  5618.4,  6320.7,  7023. ]),\n",
       " <a list of 10 Patch objects>)"
      ]
     },
     "execution_count": 49,
     "metadata": {},
     "output_type": "execute_result"
    },
    {
     "data": {
      "image/png": "[encoded data removed]",
      "text/plain": [
       "<matplotlib.figure.Figure at 0x7f07bf5a9dd8>"
      ]
     },
     "metadata": {},
     "output_type": "display_data"
    }
   ],
   "source": [
    "plt.hist(np.array(au_fos_count[3]), bins=10)"
   ]
  },
  {
   "cell_type": "code",
   "execution_count": 50,
   "metadata": {
    "collapsed": true
   },
   "outputs": [],
   "source": [
    "def export_fos(fos_dicts, exdir):\n",
    "    if not os.path.exists(exdir):\n",
    "        os.makedirs(exdir)\n",
    "    for i in range(4):\n",
    "        filename = os.path.join(exdir, 'fos_L%d.txt' % i)\n",
    "        f = open(filename, 'w')\n",
    "        count = 0\n",
    "        for au in fos_dicts[i].keys():\n",
    "            if len(fos_dicts[i][au]) == 0:\n",
    "                f.write(au+'\\n')\n",
    "                continue\n",
    "            f.write(au+'\\t')\n",
    "            for j in range(len(fos_dicts[i][au])-1):\n",
    "                f.write(fos_dicts[i][au][j]+' ')\n",
    "            f.write(fos_dicts[i][au][-1]+'\\n')\n",
    "            count += len(fos_dicts[i][au])\n",
    "        f.close()\n",
    "        print (\"export %s: %d fos\" % (filename, count))"
   ]
  },
  {
   "cell_type": "code",
   "execution_count": 51,
   "metadata": {
    "collapsed": false
   },
   "outputs": [
    {
     "name": "stdout",
     "output_type": "stream",
     "text": [
      "export data/cite/SIGCOMM/fos_L0.txt: 19546 fos\n",
      "export data/cite/SIGCOMM/fos_L1.txt: 135268 fos\n",
      "export data/cite/SIGCOMM/fos_L2.txt: 219054 fos\n",
      "export data/cite/SIGCOMM/fos_L3.txt: 1895928 fos\n"
     ]
    }
   ],
   "source": [
    "export_fos(au_fos_all, 'data/cite/%s' % conference)"
   ]
  },
  {
   "cell_type": "code",
   "execution_count": 55,
   "metadata": {
    "collapsed": false
   },
   "outputs": [],
   "source": [
    "fos_au_all = [{}, {}, {}, {}]\n",
    "fos_au_count = [[], [], [], []]\n",
    "for i in range(4):\n",
    "    for au in au_fos_all[i].keys():\n",
    "        for fos in au_fos_all[i][au]:\n",
    "            if (fos not in fos_au_all[i].keys()):\n",
    "                fos_au_all[i][fos] = set()\n",
    "            fos_au_all[i][fos].add(au)\n",
    "    for fos in fos_au_all[i].keys():\n",
    "            setlen = len(fos_au_all[i][fos])\n",
    "            fos_au_count[i].append(setlen)"
   ]
  },
  {
   "cell_type": "code",
   "execution_count": 56,
   "metadata": {
    "collapsed": false
   },
   "outputs": [
    {
     "data": {
      "text/plain": [
       "(array([ 5.,  6.,  1.,  5.,  1.,  0.,  0.,  0.,  0.,  1.]),\n",
       " array([   36. ,   456.2,   876.4,  1296.6,  1716.8,  2137. ,  2557.2,\n",
       "         2977.4,  3397.6,  3817.8,  4238. ]),\n",
       " <a list of 10 Patch objects>)"
      ]
     },
     "execution_count": 56,
     "metadata": {},
     "output_type": "execute_result"
    },
    {
     "data": {
      "image/png": "[encoded data removed]",
      "text/plain": [
       "<matplotlib.figure.Figure at 0x7f07be24c390>"
      ]
     },
     "metadata": {},
     "output_type": "display_data"
    }
   ],
   "source": [
    "plt.hist(np.array(fos_au_count[0]), bins=10)"
   ]
  },
  {
   "cell_type": "code",
   "execution_count": 57,
   "metadata": {
    "collapsed": false
   },
   "outputs": [
    {
     "data": {
      "text/plain": [
       "(array([ 222.,   21.,    7.,    7.,    6.,    4.,    6.,    1.,    0.,    1.]),\n",
       " array([  1.00000000e+00,   6.21000000e+02,   1.24100000e+03,\n",
       "          1.86100000e+03,   2.48100000e+03,   3.10100000e+03,\n",
       "          3.72100000e+03,   4.34100000e+03,   4.96100000e+03,\n",
       "          5.58100000e+03,   6.20100000e+03]),\n",
       " <a list of 10 Patch objects>)"
      ]
     },
     "execution_count": 57,
     "metadata": {},
     "output_type": "execute_result"
    },
    {
     "data": {
      "image/png": "[encoded data removed]",
      "text/plain": [
       "<matplotlib.figure.Figure at 0x7f07be2bf828>"
      ]
     },
     "metadata": {},
     "output_type": "display_data"
    }
   ],
   "source": [
    "plt.hist(np.array(fos_au_count[1]), bins=10)"
   ]
  },
  {
   "cell_type": "code",
   "execution_count": 58,
   "metadata": {
    "collapsed": false
   },
   "outputs": [
    {
     "data": {
      "text/plain": [
       "(array([ 1017.,    59.,    27.,    27.,    11.,     7.,     6.,     3.,\n",
       "            0.,     5.]),\n",
       " array([  1.00000000e+00,   3.88300000e+02,   7.75600000e+02,\n",
       "          1.16290000e+03,   1.55020000e+03,   1.93750000e+03,\n",
       "          2.32480000e+03,   2.71210000e+03,   3.09940000e+03,\n",
       "          3.48670000e+03,   3.87400000e+03]),\n",
       " <a list of 10 Patch objects>)"
      ]
     },
     "execution_count": 58,
     "metadata": {},
     "output_type": "execute_result"
    },
    {
     "data": {
      "image/png": "[encoded data removed]",
      "text/plain": [
       "<matplotlib.figure.Figure at 0x7f07bdb8fda0>"
      ]
     },
     "metadata": {},
     "output_type": "display_data"
    }
   ],
   "source": [
    "plt.hist(np.array(fos_au_count[2]), bins=10)"
   ]
  },
  {
   "cell_type": "code",
   "execution_count": 59,
   "metadata": {
    "collapsed": false
   },
   "outputs": [
    {
     "data": {
      "text/plain": [
       "(array([  2.24920000e+04,   4.50000000e+02,   1.60000000e+02,\n",
       "          7.90000000e+01,   4.50000000e+01,   1.30000000e+01,\n",
       "          1.90000000e+01,   4.00000000e+00,   2.00000000e+00,\n",
       "          1.00000000e+00]),\n",
       " array([  1.00000000e+00,   5.60400000e+02,   1.11980000e+03,\n",
       "          1.67920000e+03,   2.23860000e+03,   2.79800000e+03,\n",
       "          3.35740000e+03,   3.91680000e+03,   4.47620000e+03,\n",
       "          5.03560000e+03,   5.59500000e+03]),\n",
       " <a list of 10 Patch objects>)"
      ]
     },
     "execution_count": 59,
     "metadata": {},
     "output_type": "execute_result"
    },
    {
     "data": {
      "image/png": "[encoded data removed]",
      "text/plain": [
       "<matplotlib.figure.Figure at 0x7f07bdb1f438>"
      ]
     },
     "metadata": {},
     "output_type": "display_data"
    }
   ],
   "source": [
    "plt.hist(np.array(fos_au_count[3]), bins=10)"
   ]
  },
  {
   "cell_type": "code",
   "execution_count": 52,
   "metadata": {
    "collapsed": false
   },
   "outputs": [
    {
     "ename": "SyntaxError",
     "evalue": "invalid syntax (<ipython-input-52-dbe2464f9e52>, line 10)",
     "output_type": "error",
     "traceback": [
      "\u001b[1;36m  File \u001b[1;32m\"<ipython-input-52-dbe2464f9e52>\"\u001b[1;36m, line \u001b[1;32m10\u001b[0m\n\u001b[1;33m    for fos in fos\u001b[0m\n\u001b[1;37m                  ^\u001b[0m\n\u001b[1;31mSyntaxError\u001b[0m\u001b[1;31m:\u001b[0m invalid syntax\n"
     ]
    }
   ],
   "source": [
    "def com_export_fos(fos_au_dicts, exdir):\n",
    "    if not os.path.exists(exdir):\n",
    "        os.makedirs(exdir)\n",
    "    for i in range(4):\n",
    "        filename = os.path.join(exdir, 'c_fos_L%d.txt' % i)\n",
    "        f = open(filename, 'w')\n",
    "        for fos in fos_au_dicts[i].keys():\n",
    "            setlen = len(fos_au_dicts[i][fos])\n",
    "            if  setlen == 0:\n",
    "                f.write(fos+'\\n')\n",
    "                continue\n",
    "            f.write(fos+'\\t')\n",
    "            for j, au in enumerate(fos_au_dicts[i][fos]):\n",
    "                f.write(au)\n",
    "                if (j < setlen - 1):\n",
    "                    f.write(' ')\n",
    "            f.write('\\n')"
   ]
  },
  {
   "cell_type": "code",
   "execution_count": null,
   "metadata": {
    "collapsed": true
   },
   "outputs": [],
   "source": []
  }
 ],
 "metadata": {
  "kernelspec": {
   "display_name": "Python 3",
   "language": "python",
   "name": "python3"
  },
  "language_info": {
   "codemirror_mode": {
    "name": "ipython",
    "version": 3
   },
   "file_extension": ".py",
   "mimetype": "text/x-python",
   "name": "python",
   "nbconvert_exporter": "python",
   "pygments_lexer": "ipython3",
   "version": "3.5.3"
  }
 },
 "nbformat": 4,
 "nbformat_minor": 0
}
