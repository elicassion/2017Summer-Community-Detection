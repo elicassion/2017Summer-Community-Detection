{
 "cells": [
  {
   "cell_type": "code",
   "execution_count": 1,
   "metadata": {
    "collapsed": true
   },
   "outputs": [],
   "source": [
    "%matplotlib inline\n",
    "import os\n",
    "import re\n",
    "import copy\n",
    "import matplotlib.pyplot as plt\n",
    "from nltk.corpus import stopwords\n",
    "from lxml import etree\n",
    "import json\n",
    "import time\n",
    "import numpy as np"
   ]
  },
  {
   "cell_type": "code",
   "execution_count": 2,
   "metadata": {
    "collapsed": true
   },
   "outputs": [],
   "source": [
    "wkdir = os.path.normpath(os.path.join(os.path.abspath(''), '..', '..'))\n",
    "model = 'cdot'\n",
    "version = 'CDOT8'\n",
    "link_mode = 'cite'\n",
    "conference = 'AAAI'\n",
    "if version:\n",
    "    resdir = os.path.join(wkdir, 'res', model, link_mode, conference, version)\n",
    "    measure_result_dir = os.path.join(wkdir, 'measure', model, link_mode, conference, version)\n",
    "else:\n",
    "    resdir = os.path.join(wkdir, 'res', model, link_mode, conference)\n",
    "    measure_result_dir = os.path.join(wkdir, 'measure', model, link_mode, conference)\n",
    "pos_tag = 'cmty'\n",
    "truth_dir = os.path.join(wkdir, 'data', link_mode, conference)\n",
    "\n",
    "if not os.path.exists(measure_result_dir):\n",
    "    os.makedirs(measure_result_dir)"
   ]
  },
  {
   "cell_type": "code",
   "execution_count": 11,
   "metadata": {
    "collapsed": true
   },
   "outputs": [],
   "source": [
    "def load_r_aus(step):\n",
    "    aus = {}\n",
    "    filename = os.path.join(resdir, '%s.%s.txt' % (step, pos_tag))\n",
    "    f = open(filename, 'r')\n",
    "    for i, line in enumerate(f):\n",
    "        tpls = line.split('\\t')[:-1]\n",
    "        for tpl in tpls:\n",
    "            au = tpl.split(',')[0]\n",
    "            fs = float(tpl.split(',')[1])\n",
    "            if fs > 0.1:\n",
    "                if au not in aus.keys():\n",
    "                    aus[au] = set()\n",
    "                aus[au].add(i)\n",
    "    return aus"
   ]
  },
  {
   "cell_type": "code",
   "execution_count": 12,
   "metadata": {},
   "outputs": [
    {
     "ename": "TypeError",
     "evalue": "'>' not supported between instances of 'str' and 'float'",
     "output_type": "error",
     "traceback": [
      "\u001b[1;31m---------------------------------------------------------------------------\u001b[0m",
      "\u001b[1;31mTypeError\u001b[0m                                 Traceback (most recent call last)",
      "\u001b[1;32m<ipython-input-12-4ebf81666486>\u001b[0m in \u001b[0;36m<module>\u001b[1;34m()\u001b[0m\n\u001b[1;32m----> 1\u001b[1;33m \u001b[0mres_aus\u001b[0m \u001b[1;33m=\u001b[0m \u001b[0mload_r_aus\u001b[0m\u001b[1;33m(\u001b[0m\u001b[1;34m'final'\u001b[0m\u001b[1;33m)\u001b[0m\u001b[1;33m\u001b[0m\u001b[0m\n\u001b[0m",
      "\u001b[1;32m<ipython-input-11-6fa8c0717060>\u001b[0m in \u001b[0;36mload_r_aus\u001b[1;34m(step)\u001b[0m\n\u001b[0;32m      8\u001b[0m             \u001b[0mau\u001b[0m \u001b[1;33m=\u001b[0m \u001b[0mtpl\u001b[0m\u001b[1;33m.\u001b[0m\u001b[0msplit\u001b[0m\u001b[1;33m(\u001b[0m\u001b[1;34m','\u001b[0m\u001b[1;33m)\u001b[0m\u001b[1;33m[\u001b[0m\u001b[1;36m0\u001b[0m\u001b[1;33m]\u001b[0m\u001b[1;33m\u001b[0m\u001b[0m\n\u001b[0;32m      9\u001b[0m             \u001b[0mfs\u001b[0m \u001b[1;33m=\u001b[0m \u001b[0mtpl\u001b[0m\u001b[1;33m.\u001b[0m\u001b[0msplit\u001b[0m\u001b[1;33m(\u001b[0m\u001b[1;34m','\u001b[0m\u001b[1;33m)\u001b[0m\u001b[1;33m[\u001b[0m\u001b[1;36m1\u001b[0m\u001b[1;33m]\u001b[0m\u001b[1;33m\u001b[0m\u001b[0m\n\u001b[1;32m---> 10\u001b[1;33m             \u001b[1;32mif\u001b[0m \u001b[0mfs\u001b[0m \u001b[1;33m>\u001b[0m \u001b[1;36m0.1\u001b[0m\u001b[1;33m:\u001b[0m\u001b[1;33m\u001b[0m\u001b[0m\n\u001b[0m\u001b[0;32m     11\u001b[0m                 \u001b[1;32mif\u001b[0m \u001b[0mau\u001b[0m \u001b[1;32mnot\u001b[0m \u001b[1;32min\u001b[0m \u001b[0maus\u001b[0m\u001b[1;33m.\u001b[0m\u001b[0mkeys\u001b[0m\u001b[1;33m(\u001b[0m\u001b[1;33m)\u001b[0m\u001b[1;33m:\u001b[0m\u001b[1;33m\u001b[0m\u001b[0m\n\u001b[0;32m     12\u001b[0m                     \u001b[0maus\u001b[0m\u001b[1;33m[\u001b[0m\u001b[0mau\u001b[0m\u001b[1;33m]\u001b[0m \u001b[1;33m=\u001b[0m \u001b[0mset\u001b[0m\u001b[1;33m(\u001b[0m\u001b[1;33m)\u001b[0m\u001b[1;33m\u001b[0m\u001b[0m\n",
      "\u001b[1;31mTypeError\u001b[0m: '>' not supported between instances of 'str' and 'float'"
     ]
    }
   ],
   "source": [
    "res_aus = load_r_aus('final')"
   ]
  },
  {
   "cell_type": "code",
   "execution_count": 5,
   "metadata": {
    "collapsed": true
   },
   "outputs": [],
   "source": [
    "def load_t_aus(scope):\n",
    "    aus = {}\n",
    "    filename = os.path.join(truth_dir, 'fos_L%d.txt' % scope)\n",
    "    f = open(filename, 'r')\n",
    "    for i, line in enumerate(f):\n",
    "        line = line.strip('\\n')\n",
    "        tpl = line.split('\\t')\n",
    "        au = tpl[0]\n",
    "        if au not in aus.keys():\n",
    "            aus[au] = set()\n",
    "        if len(tpl) == 1:\n",
    "            continue\n",
    "        foss = tpl[1]\n",
    "        for fos in foss.split(' '):\n",
    "            aus[au].add(fos)\n",
    "    return aus"
   ]
  },
  {
   "cell_type": "code",
   "execution_count": 6,
   "metadata": {
    "collapsed": true
   },
   "outputs": [],
   "source": [
    "truth_aus_scopes = []\n",
    "for i in range(4):\n",
    "    truth_aus_scopes.append(load_t_aus(i))"
   ]
  },
  {
   "cell_type": "code",
   "execution_count": 7,
   "metadata": {
    "collapsed": true
   },
   "outputs": [],
   "source": [
    "def measure(r, t):\n",
    "    score = 0\n",
    "    for x in r.keys():\n",
    "        for y in r.keys():\n",
    "            if x == y:\n",
    "                continue\n",
    "            r_its = r[x] & r[y]\n",
    "            t_its = t[x] & t[y]\n",
    "            if len(r_its) == len(t_its):\n",
    "                score += 1\n",
    "    score = score / len(r) / len(r)\n",
    "    return score"
   ]
  },
  {
   "cell_type": "code",
   "execution_count": 8,
   "metadata": {},
   "outputs": [
    {
     "name": "stdout",
     "output_type": "stream",
     "text": [
      "[0.4461091323653818, 0.20811429633367934, 0.269642665281074, 0.25016039068764473]\n"
     ]
    }
   ],
   "source": [
    "measure_res = []\n",
    "for i in range(4):\n",
    "    measure_res.append(measure(res_aus, truth_aus_scopes[i]))\n",
    "print (measure_res)"
   ]
  },
  {
   "cell_type": "code",
   "execution_count": 9,
   "metadata": {
    "collapsed": true
   },
   "outputs": [],
   "source": [
    "measure_filename = os.path.join(measure_result_dir, 'omgidx-0.1.txt')\n",
    "mf = open(measure_filename, 'w')\n",
    "for i in measure_res:\n",
    "    mf.write('%.5f\\n' % i)\n",
    "mf.close()"
   ]
  },
  {
   "cell_type": "code",
   "execution_count": 10,
   "metadata": {},
   "outputs": [
    {
     "name": "stdout",
     "output_type": "stream",
     "text": [
      "7112\n"
     ]
    }
   ],
   "source": [
    "print (len(truth_aus_scopes[1]))"
   ]
  },
  {
   "cell_type": "code",
   "execution_count": null,
   "metadata": {
    "collapsed": true
   },
   "outputs": [],
   "source": []
  }
 ],
 "metadata": {
  "kernelspec": {
   "display_name": "Python 3",
   "language": "python",
   "name": "python3"
  },
  "language_info": {
   "codemirror_mode": {
    "name": "ipython",
    "version": 3
   },
   "file_extension": ".py",
   "mimetype": "text/x-python",
   "name": "python",
   "nbconvert_exporter": "python",
   "pygments_lexer": "ipython3",
   "version": "3.6.1"
  }
 },
 "nbformat": 4,
 "nbformat_minor": 2
}
