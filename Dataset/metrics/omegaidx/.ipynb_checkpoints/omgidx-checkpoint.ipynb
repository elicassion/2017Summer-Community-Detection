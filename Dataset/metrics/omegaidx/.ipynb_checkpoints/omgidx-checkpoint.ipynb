{
 "cells": [
  {
   "cell_type": "code",
   "execution_count": 1,
   "metadata": {
    "collapsed": true
   },
   "outputs": [],
   "source": [
    "%matplotlib inline\n",
    "import os\n",
    "import re\n",
    "import copy\n",
    "import matplotlib.pyplot as plt\n",
    "from nltk.corpus import stopwords\n",
    "from lxml import etree\n",
    "import json\n",
    "import time\n",
    "import numpy as np"
   ]
  },
  {
   "cell_type": "code",
   "execution_count": 13,
   "metadata": {},
   "outputs": [],
   "source": [
    "wkdir = os.path.normpath(os.path.join(os.path.abspath(''), '..', '..'))\n",
    "model = 'cdot'\n",
    "link_mode = 'cite'\n",
    "conference = 'AAAI'\n",
    "version = 'CDOT2'\n",
    "if version:\n",
    "    resdir = os.path.join(wkdir, 'res', model, link_mode, conference, version)\n",
    "    measure_result_dir = os.path.join(wkdir, 'measure', model, link_mode, conference, version)\n",
    "else:\n",
    "    resdir = os.path.join(wkdir, 'res', model, link_mode, conference)\n",
    "    measure_result_dir = os.path.join(wkdir, 'measure', model, link_mode, conference)\n",
    "pos_tag = 'cmty'\n",
    "truth_dir = os.path.join(wkdir, 'data', link_mode, conference)\n",
    "\n",
    "if not os.path.exists(measure_result_dir):\n",
    "    os.makedirs(measure_result_dir)"
   ]
  },
  {
   "cell_type": "code",
   "execution_count": 14,
   "metadata": {
    "collapsed": true
   },
   "outputs": [],
   "source": [
    "def load_r_aus(step):\n",
    "    aus = {}\n",
    "    filename = os.path.join(resdir, '%s.%s.txt' % (step, pos_tag))\n",
    "    f = open(filename, 'r')\n",
    "    for i, line in enumerate(f):\n",
    "        tpls = line.split('\\t')[:-1]\n",
    "        for tpl in tpls:\n",
    "            au = tpl.split(',')[0]\n",
    "            if au not in aus.keys():\n",
    "                aus[au] = set()\n",
    "            aus[au].add(i)\n",
    "    return aus"
   ]
  },
  {
   "cell_type": "code",
   "execution_count": 15,
   "metadata": {},
   "outputs": [],
   "source": [
    "res_aus = load_r_aus('final')"
   ]
  },
  {
   "cell_type": "code",
   "execution_count": 20,
   "metadata": {
    "collapsed": true
   },
   "outputs": [],
   "source": [
    "def load_t_aus(scope):\n",
    "    aus = {}\n",
    "    filename = os.path.join(truth_dir, 'fos_L%d.txt' % scope)\n",
    "    f = open(filename, 'r')\n",
    "    for i, line in enumerate(f):\n",
    "        line = line.strip('\\n')\n",
    "        tpl = line.split('\\t')\n",
    "        au = tpl[0]\n",
    "        if au not in aus.keys():\n",
    "            aus[au] = set()\n",
    "        if len(tpl) == 1:\n",
    "            continue\n",
    "        foss = tpl[1]\n",
    "        for fos in foss.split(' '):\n",
    "            aus[au].add(fos)\n",
    "    return aus"
   ]
  },
  {
   "cell_type": "code",
   "execution_count": 21,
   "metadata": {},
   "outputs": [],
   "source": [
    "truth_aus_scopes = []\n",
    "for i in range(4):\n",
    "    truth_aus_scopes.append(load_t_aus(i))"
   ]
  },
  {
   "cell_type": "code",
   "execution_count": null,
   "metadata": {
    "collapsed": true
   },
   "outputs": [],
   "source": [
    "def measure(r, t):\n",
    "    score = 0\n",
    "    for x in r.keys():\n",
    "        for y in r.keys():\n",
    "            if x == y:\n",
    "                continue\n",
    "            r_its = r[x] & r[y]\n",
    "            t_its = t[x] & t[y]\n",
    "            if len(r_its) == len(t_its):\n",
    "                score += 1\n",
    "    score = score / len(r) / len(r)"
   ]
  }
 ],
 "metadata": {
  "kernelspec": {
   "display_name": "Python 3",
   "language": "python",
   "name": "python3"
  },
  "language_info": {
   "codemirror_mode": {
    "name": "ipython",
    "version": 3
   },
   "file_extension": ".py",
   "mimetype": "text/x-python",
   "name": "python",
   "nbconvert_exporter": "python",
   "pygments_lexer": "ipython3",
   "version": "3.6.1"
  }
 },
 "nbformat": 4,
 "nbformat_minor": 2
}
