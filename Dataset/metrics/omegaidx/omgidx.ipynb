{
 "cells": [
  {
   "cell_type": "code",
   "execution_count": null,
   "metadata": {
    "collapsed": true
   },
   "outputs": [],
   "source": [
    "%matplotlib inline\n",
    "import os\n",
    "import re\n",
    "import copy\n",
    "import matplotlib.pyplot as plt\n",
    "from nltk.corpus import stopwords\n",
    "from lxml import etree\n",
    "import json\n",
    "import time\n",
    "import numpy as np"
   ]
  },
  {
   "cell_type": "code",
   "execution_count": null,
   "metadata": {
    "collapsed": true
   },
   "outputs": [],
   "source": [
    "model = 'cdot'\n",
    "link_mode = 'cite'\n",
    "conference = 'AAAI'\n",
    "version = 'CDOT2'\n",
    "if version:\n",
    "    resdir = os.path.join('res', model, link_mode, version, conference)\n",
    "else:\n",
    "    resdir = os.path.join('res', model, link_mode, conference)\n",
    "pos_tag = 'cmty'\n",
    "truth_dir = os.path.join('data', link_mode, conference)\n",
    "measure_result_dir = os.path.join('measure', model, link_mode, conference)\n",
    "if not os.path.exists(measure_result_dir):\n",
    "    os.makedirs(measure_result_dir)"
   ]
  },
  {
   "cell_type": "code",
   "execution_count": null,
   "metadata": {
    "collapsed": true
   },
   "outputs": [],
   "source": [
    "def load_r_au(step):\n",
    "    aus = {}\n",
    "    filename = os.path.join(resdir, '%s.%s.txt' % (step, pos_tag))\n",
    "    f = open(filename, 'r')\n",
    "    for i, line in enumerate(f):\n",
    "        tpls = line.split('\\t')[:-1]\n",
    "        for tpl in tpls:\n",
    "            au = tpl.split(',')[0]\n",
    "            if au not in aus.keys():\n",
    "                aus[au] = set()\n",
    "            aus.\n",
    "    return aus"
   ]
  },
  {
   "cell_type": "code",
   "execution_count": null,
   "metadata": {
    "collapsed": true
   },
   "outputs": [],
   "source": [
    "res_comm = load_r_comm('final')"
   ]
  },
  {
   "cell_type": "code",
   "execution_count": null,
   "metadata": {
    "collapsed": true
   },
   "outputs": [],
   "source": [
    "def load_t_comm(scope):\n",
    "    comm = []\n",
    "    fos_name = []\n",
    "    filename = os.path.join(truth_dir, 'c_fos_L%d.txt' % scope)\n",
    "    f = open(filename, 'r')\n",
    "    for i, line in enumerate(f):\n",
    "        line = line.strip('\\n')\n",
    "        comm.append(set())\n",
    "        fos_name = line.split('\\t')[0]\n",
    "        aus = line.split('\\t')[1]\n",
    "        for au in aus.split(' '):\n",
    "            comm[i].add(au)\n",
    "    return comm, fos_name"
   ]
  },
  {
   "cell_type": "code",
   "execution_count": null,
   "metadata": {
    "collapsed": true
   },
   "outputs": [],
   "source": [
    "truth_comm_scopes = []\n",
    "truth_comm_scopes_name = []\n",
    "for i in range(4):\n",
    "    comm, fos_name = load_t_comm(i)\n",
    "    truth_comm_scopes.append(comm)\n",
    "    truth_comm_scopes_name.append(fos_name)"
   ]
  }
 ],
 "metadata": {
  "kernelspec": {
   "display_name": "Python 3",
   "language": "python",
   "name": "python3"
  },
  "language_info": {
   "codemirror_mode": {
    "name": "ipython",
    "version": 3
   },
   "file_extension": ".py",
   "mimetype": "text/x-python",
   "name": "python",
   "nbconvert_exporter": "python",
   "pygments_lexer": "ipython3",
   "version": "3.6.1"
  }
 },
 "nbformat": 4,
 "nbformat_minor": 2
}
