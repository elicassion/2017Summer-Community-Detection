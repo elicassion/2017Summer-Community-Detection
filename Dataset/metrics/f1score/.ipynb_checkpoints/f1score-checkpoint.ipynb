{
 "cells": [
  {
   "cell_type": "code",
   "execution_count": 1,
   "metadata": {
    "collapsed": true
   },
   "outputs": [],
   "source": [
    "%matplotlib inline\n",
    "import os\n",
    "import re\n",
    "import copy\n",
    "import matplotlib.pyplot as plt\n",
    "from nltk.corpus import stopwords\n",
    "from lxml import etree\n",
    "import json\n",
    "import time\n",
    "import numpy as np"
   ]
  },
  {
   "cell_type": "code",
   "execution_count": 2,
   "metadata": {
    "collapsed": true
   },
   "outputs": [],
   "source": [
    "#  truth format is fos \\t author author author.....\n",
    "#  result format is author \\t author \\t author  ....."
   ]
  },
  {
   "cell_type": "code",
   "execution_count": 20,
   "metadata": {
    "collapsed": true
   },
   "outputs": [],
   "source": [
    "# some constant\n",
    "wkdir = os.path.normpath(os.path.join(os.path.abspath(''), '..', '..'))\n",
    "model = 'bigclam'\n",
    "version = 'bigclam_L1_072416'\n",
    "link_mode = 'cite'\n",
    "conference = 'AAAI'\n",
    "if version:\n",
    "    resdir = os.path.join(wkdir, 'res', model, link_mode, conference, version)\n",
    "    measure_result_dir = os.path.join(wkdir, 'measure', model, link_mode, conference, version)\n",
    "else:\n",
    "    resdir = os.path.join(wkdir, 'res', model, link_mode, conference)\n",
    "    measure_result_dir = os.path.join(wkdir, 'measure', model, link_mode, conference)\n",
    "pos_tag = 'cmty'\n",
    "truth_dir = os.path.join(wkdir, 'data', link_mode, conference)\n",
    "\n",
    "if not os.path.exists(measure_result_dir):\n",
    "    os.makedirs(measure_result_dir)"
   ]
  },
  {
   "cell_type": "code",
   "execution_count": 21,
   "metadata": {
    "collapsed": true
   },
   "outputs": [],
   "source": [
    "def load_r_comm(step):\n",
    "    comm = []\n",
    "    filename = os.path.join(resdir, '%s.%s.txt' % (step, pos_tag))\n",
    "    f = open(filename, 'r')\n",
    "    print (f.read())\n",
    "    for i, line in enumerate(f):\n",
    "        comm.append(set())\n",
    "        tpls = line.split('\\t')[:-1]\n",
    "        for tpl in tpls:\n",
    "            au = tpl.split(',')[0]\n",
    "            # filter >0.1\n",
    "            fs = float(tpl.split(',')[1])\n",
    "            if fs > 0.1:\n",
    "                comm[i].add(au)\n",
    "    return comm"
   ]
  },
  {
   "cell_type": "code",
   "execution_count": 22,
   "metadata": {},
   "outputs": [
    {
     "ename": "IndexError",
     "evalue": "list index out of range",
     "output_type": "error",
     "traceback": [
      "\u001b[1;31m---------------------------------------------------------------------------\u001b[0m",
      "\u001b[1;31mIndexError\u001b[0m                                Traceback (most recent call last)",
      "\u001b[1;32m<ipython-input-22-8d5adbb49ca8>\u001b[0m in \u001b[0;36m<module>\u001b[1;34m()\u001b[0m\n\u001b[1;32m----> 1\u001b[1;33m \u001b[0mres_comm\u001b[0m \u001b[1;33m=\u001b[0m \u001b[0mload_r_comm\u001b[0m\u001b[1;33m(\u001b[0m\u001b[1;34m'final'\u001b[0m\u001b[1;33m)\u001b[0m\u001b[1;33m\u001b[0m\u001b[0m\n\u001b[0m",
      "\u001b[1;32m<ipython-input-21-4c8fe02d6fc6>\u001b[0m in \u001b[0;36mload_r_comm\u001b[1;34m(step)\u001b[0m\n\u001b[0;32m      9\u001b[0m             \u001b[0mau\u001b[0m \u001b[1;33m=\u001b[0m \u001b[0mtpl\u001b[0m\u001b[1;33m.\u001b[0m\u001b[0msplit\u001b[0m\u001b[1;33m(\u001b[0m\u001b[1;34m','\u001b[0m\u001b[1;33m)\u001b[0m\u001b[1;33m[\u001b[0m\u001b[1;36m0\u001b[0m\u001b[1;33m]\u001b[0m\u001b[1;33m\u001b[0m\u001b[0m\n\u001b[0;32m     10\u001b[0m             \u001b[1;31m# filter >0.1\u001b[0m\u001b[1;33m\u001b[0m\u001b[1;33m\u001b[0m\u001b[0m\n\u001b[1;32m---> 11\u001b[1;33m             \u001b[0mfs\u001b[0m \u001b[1;33m=\u001b[0m \u001b[0mfloat\u001b[0m\u001b[1;33m(\u001b[0m\u001b[0mtpl\u001b[0m\u001b[1;33m.\u001b[0m\u001b[0msplit\u001b[0m\u001b[1;33m(\u001b[0m\u001b[1;34m','\u001b[0m\u001b[1;33m)\u001b[0m\u001b[1;33m[\u001b[0m\u001b[1;36m1\u001b[0m\u001b[1;33m]\u001b[0m\u001b[1;33m)\u001b[0m\u001b[1;33m\u001b[0m\u001b[0m\n\u001b[0m\u001b[0;32m     12\u001b[0m             \u001b[1;32mif\u001b[0m \u001b[0mfs\u001b[0m \u001b[1;33m>\u001b[0m \u001b[1;36m0.1\u001b[0m\u001b[1;33m:\u001b[0m\u001b[1;33m\u001b[0m\u001b[0m\n\u001b[0;32m     13\u001b[0m                 \u001b[0mcomm\u001b[0m\u001b[1;33m[\u001b[0m\u001b[0mi\u001b[0m\u001b[1;33m]\u001b[0m\u001b[1;33m.\u001b[0m\u001b[0madd\u001b[0m\u001b[1;33m(\u001b[0m\u001b[0mau\u001b[0m\u001b[1;33m)\u001b[0m\u001b[1;33m\u001b[0m\u001b[0m\n",
      "\u001b[1;31mIndexError\u001b[0m: list index out of range"
     ]
    }
   ],
   "source": [
    "res_comm = load_r_comm('final')"
   ]
  },
  {
   "cell_type": "code",
   "execution_count": 6,
   "metadata": {
    "collapsed": true
   },
   "outputs": [],
   "source": [
    "def load_t_comm(scope):\n",
    "    comm = []\n",
    "    fos_name = []\n",
    "    filename = os.path.join(truth_dir, 'c_fos_L%d.txt' % scope)\n",
    "    f = open(filename, 'r')\n",
    "    for i, line in enumerate(f):\n",
    "        line = line.strip('\\n')\n",
    "        comm.append(set())\n",
    "        fos_name = line.split('\\t')[0]\n",
    "        aus = line.split('\\t')[1]\n",
    "        for au in aus.split(' '):\n",
    "            comm[i].add(au)\n",
    "    return comm, fos_name\n",
    "        "
   ]
  },
  {
   "cell_type": "code",
   "execution_count": 7,
   "metadata": {
    "collapsed": true
   },
   "outputs": [],
   "source": [
    "truth_comm_scopes = []\n",
    "truth_comm_scopes_name = []\n",
    "for i in range(4):\n",
    "    comm, fos_name = load_t_comm(i)\n",
    "    truth_comm_scopes.append(comm)\n",
    "    truth_comm_scopes_name.append(fos_name)"
   ]
  },
  {
   "cell_type": "code",
   "execution_count": 8,
   "metadata": {
    "collapsed": true
   },
   "outputs": [],
   "source": [
    "def precision(r, t):\n",
    "#     r, t a set of authors\n",
    "#     r-predict t -ruth\n",
    "#     r & t TP\n",
    "#     r - r & t FP\n",
    "#     t - r & t TN\n",
    "#     precision = tp/(tp+fp)\n",
    "    if len(r) == 0:\n",
    "        return 0\n",
    "    return len(r&t)/(len(r))"
   ]
  },
  {
   "cell_type": "code",
   "execution_count": 9,
   "metadata": {
    "collapsed": true
   },
   "outputs": [],
   "source": [
    "def recall(r, t):\n",
    "#     recall = tp/(tp+tn)\n",
    "    if len(t) == 0:\n",
    "        return 0\n",
    "    return len(r&t)/(len(t))"
   ]
  },
  {
   "cell_type": "code",
   "execution_count": 10,
   "metadata": {
    "collapsed": true
   },
   "outputs": [],
   "source": [
    "def f1(r, t):\n",
    "    pre = precision(r, t)\n",
    "    rec = recall(r, t)\n",
    "    if pre+rec < 1e-8:\n",
    "        return 0\n",
    "    return 2*(pre*rec)/(pre+rec)"
   ]
  },
  {
   "cell_type": "code",
   "execution_count": 11,
   "metadata": {
    "collapsed": true
   },
   "outputs": [],
   "source": [
    "def find_bestmatch_f1(xset, ycomm):\n",
    "    best_score = -1\n",
    "    for yset in ycomm:\n",
    "        score = f1(xset, yset)\n",
    "        if score > best_score:\n",
    "            best_score = score\n",
    "    return best_score"
   ]
  },
  {
   "cell_type": "code",
   "execution_count": 12,
   "metadata": {
    "collapsed": true
   },
   "outputs": [],
   "source": [
    "def measure(rcomm, tcomm):\n",
    "    sum1 = 0\n",
    "    sum2 = 0\n",
    "    for rset in rcomm:\n",
    "        sum1 += find_bestmatch_f1(rset, tcomm)\n",
    "    for tset in tcomm:\n",
    "        sum2 += find_bestmatch_f1(tset, rcomm)\n",
    "    return 0.5*(sum1/len(rcomm) + sum2/len(tcomm))"
   ]
  },
  {
   "cell_type": "code",
   "execution_count": 13,
   "metadata": {
    "collapsed": true
   },
   "outputs": [],
   "source": [
    "measure_res = []\n",
    "for i in range(4):\n",
    "    measure_res.append(measure(res_comm, truth_comm_scopes[i]))"
   ]
  },
  {
   "cell_type": "code",
   "execution_count": 14,
   "metadata": {
    "scrolled": true
   },
   "outputs": [
    {
     "name": "stdout",
     "output_type": "stream",
     "text": [
      "[0.12429569652827531, 0.10821168480452202, 0.11447276286084976, 0.13187742987558682]\n"
     ]
    }
   ],
   "source": [
    "print (measure_res)"
   ]
  },
  {
   "cell_type": "code",
   "execution_count": 15,
   "metadata": {
    "collapsed": true
   },
   "outputs": [],
   "source": [
    "measure_filename = os.path.join(measure_result_dir, 'f1score-0.1.txt')\n",
    "mf = open(measure_filename, 'w')\n",
    "for i in measure_res:\n",
    "    mf.write('%.5f\\n' % i)\n",
    "mf.close()"
   ]
  },
  {
   "cell_type": "code",
   "execution_count": null,
   "metadata": {
    "collapsed": true
   },
   "outputs": [],
   "source": []
  }
 ],
 "metadata": {
  "kernelspec": {
   "display_name": "Python 3",
   "language": "python",
   "name": "python3"
  },
  "language_info": {
   "codemirror_mode": {
    "name": "ipython",
    "version": 3
   },
   "file_extension": ".py",
   "mimetype": "text/x-python",
   "name": "python",
   "nbconvert_exporter": "python",
   "pygments_lexer": "ipython3",
   "version": "3.6.1"
  }
 },
 "nbformat": 4,
 "nbformat_minor": 2
}
