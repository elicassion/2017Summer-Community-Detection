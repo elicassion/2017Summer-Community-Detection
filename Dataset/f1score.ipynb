{
 "cells": [
  {
   "cell_type": "code",
   "execution_count": 18,
   "metadata": {
    "collapsed": true
   },
   "outputs": [],
   "source": [
    "%matplotlib inline\n",
    "import os\n",
    "import re\n",
    "import copy\n",
    "import matplotlib.pyplot as plt\n",
    "from nltk.corpus import stopwords\n",
    "from lxml import etree\n",
    "import json\n",
    "import time\n",
    "import numpy as np"
   ]
  },
  {
   "cell_type": "code",
   "execution_count": 19,
   "metadata": {
    "collapsed": true
   },
   "outputs": [],
   "source": [
    "#  truth format is fos \\t author author author.....\n",
    "#  result format is author \\t author \\t author  ....."
   ]
  },
  {
   "cell_type": "code",
   "execution_count": 26,
   "metadata": {
    "collapsed": true
   },
   "outputs": [],
   "source": [
    "# some constant\n",
    "conference = 'AAAI'\n",
    "resdir = os.path.join('res', 'cite', conference)\n",
    "pos_tag = 'cmty'\n",
    "truth_dir = os.path.join('data', 'cite', conference)"
   ]
  },
  {
   "cell_type": "code",
   "execution_count": 37,
   "metadata": {
    "collapsed": true
   },
   "outputs": [],
   "source": [
    "def load_r_comm(step):\n",
    "    comm = []\n",
    "    filename = os.path.join(resdir, '%s.%s.txt' % (step, pos_tag))\n",
    "    f = open(filename, 'r')\n",
    "    for i, line in enumerate(f):\n",
    "        comm.append(set())\n",
    "        tpls = line.split('\\t')[:-1]\n",
    "        for tpl in tpls:\n",
    "            au = tpl.split(',')[0]\n",
    "            comm[i].add(au)\n",
    "    return comm"
   ]
  },
  {
   "cell_type": "code",
   "execution_count": 38,
   "metadata": {},
   "outputs": [],
   "source": [
    "res_comm = load_r_comm('final')"
   ]
  },
  {
   "cell_type": "code",
   "execution_count": 23,
   "metadata": {
    "collapsed": true
   },
   "outputs": [
    {
     "data": {
      "text/plain": [
       "(array([  3.,   0.,   2.,   3.,  11.,  10.,  26.,  22.,  15.,   8.]),\n",
       " array([   45. ,   246.4,   447.8,   649.2,   850.6,  1052. ,  1253.4,\n",
       "         1454.8,  1656.2,  1857.6,  2059. ]),\n",
       " <a list of 10 Patch objects>)"
      ]
     },
     "execution_count": 23,
     "metadata": {},
     "output_type": "execute_result"
    },
    {
     "data": {
      "image/png": "[encoded data removed]",
      "text/plain": [
       "<matplotlib.figure.Figure at 0x224d9929160>"
      ]
     },
     "metadata": {},
     "output_type": "display_data"
    }
   ],
   "source": [
    "plt.hist(np.array([len(i) for i in res_comm]), bins=10)"
   ]
  },
  {
   "cell_type": "code",
   "execution_count": 39,
   "metadata": {
    "collapsed": true
   },
   "outputs": [],
   "source": [
    "def load_t_comm(scope):\n",
    "    comm = []\n",
    "    fos_name = []\n",
    "    filename = os.path.join(truth_dir, 'c_fos_L%d.txt' % scope)\n",
    "    f = open(filename, 'r')\n",
    "    for i, line in enumerate(f):\n",
    "        line = line.strip('\\n')\n",
    "        comm.append(set())\n",
    "        fos_name = line.split('\\t')[0]\n",
    "        aus = line.split('\\t')[1]\n",
    "        for au in aus.split(' '):\n",
    "            comm[i].add(au)\n",
    "    return comm, fos_name\n",
    "        "
   ]
  },
  {
   "cell_type": "code",
   "execution_count": 40,
   "metadata": {},
   "outputs": [],
   "source": [
    "truth_comm_scopes = []\n",
    "truth_comm_scopes_name = []\n",
    "for i in range(4):\n",
    "    comm, fos_name = load_t_comm(i)\n",
    "    truth_comm_scopes.append(comm)\n",
    "    truth_comm_scopes_name.append(fos_name)"
   ]
  },
  {
   "cell_type": "code",
   "execution_count": 41,
   "metadata": {
    "collapsed": true
   },
   "outputs": [],
   "source": [
    "def precision(r, t):\n",
    "    # r, t a set of authors\n",
    "    # r-predict t -ruth\n",
    "    # r & t TP\n",
    "    # r - r & t FP\n",
    "    # t - r & t TN\n",
    "    # precision = tp/(tp+fp)\n",
    "    return len(r&t)/(len(r))"
   ]
  },
  {
   "cell_type": "code",
   "execution_count": 42,
   "metadata": {
    "collapsed": true
   },
   "outputs": [],
   "source": [
    "def recall(r, t):\n",
    "    return len(r&t)/(len(t))"
   ]
  },
  {
   "cell_type": "code",
   "execution_count": 43,
   "metadata": {
    "collapsed": true
   },
   "outputs": [],
   "source": [
    "def f1(r, t):\n",
    "    pre = precision(r, t)\n",
    "    rec = recall(r, t)\n",
    "    if pre+rec < 1e-8:\n",
    "        return 0\n",
    "    return 2*(pre*rec)/(pre+rec)"
   ]
  },
  {
   "cell_type": "code",
   "execution_count": 44,
   "metadata": {
    "collapsed": true
   },
   "outputs": [],
   "source": [
    "def find_bestmatch_f1(xset, ycomm):\n",
    "    best_score = -1\n",
    "    for yset in ycomm:\n",
    "        score = f1(xset, yset)\n",
    "        if score > best_score:\n",
    "            best_score = score\n",
    "    return best_score"
   ]
  },
  {
   "cell_type": "code",
   "execution_count": 45,
   "metadata": {
    "collapsed": true
   },
   "outputs": [],
   "source": [
    "def measure(rcomm, tcomm):\n",
    "    sum1 = 0\n",
    "    sum2 = 0\n",
    "    for rset in rcomm:\n",
    "        sum1 += find_bestmatch_f1(rset, tcomm)\n",
    "    for tset in tcomm:\n",
    "        sum2 += find_bestmatch_f1(tset, rcomm)\n",
    "    return 0.5*(sum1/len(rcomm) + sum2/len(tcomm))"
   ]
  },
  {
   "cell_type": "code",
   "execution_count": null,
   "metadata": {},
   "outputs": [],
   "source": [
    "measure_res = []\n",
    "for i in range(4):\n",
    "    measure_res.append(measure(res_comm, truth_comm_scopes[i]))"
   ]
  },
  {
   "cell_type": "code",
   "execution_count": 36,
   "metadata": {},
   "outputs": [
    {
     "name": "stdout",
     "output_type": "stream",
     "text": [
      "[0.0, 0.0, 0.0, 0.0]\n"
     ]
    }
   ],
   "source": [
    "print (measure_res)"
   ]
  },
  {
   "cell_type": "code",
   "execution_count": null,
   "metadata": {
    "collapsed": true
   },
   "outputs": [],
   "source": []
  }
 ],
 "metadata": {
  "kernelspec": {
   "display_name": "Python 3",
   "language": "python",
   "name": "python3"
  },
  "language_info": {
   "codemirror_mode": {
    "name": "ipython",
    "version": 3
   },
   "file_extension": ".py",
   "mimetype": "text/x-python",
   "name": "python",
   "nbconvert_exporter": "python",
   "pygments_lexer": "ipython3",
   "version": "3.6.1"
  }
 },
 "nbformat": 4,
 "nbformat_minor": 2
}
