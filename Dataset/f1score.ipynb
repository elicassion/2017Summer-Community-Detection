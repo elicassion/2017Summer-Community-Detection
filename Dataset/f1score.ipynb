{
 "cells": [
  {
   "cell_type": "code",
   "execution_count": 18,
   "metadata": {
    "collapsed": true
   },
   "outputs": [],
   "source": [
    "%matplotlib inline\n",
    "import os\n",
    "import re\n",
    "import copy\n",
    "import matplotlib.pyplot as plt\n",
    "from nltk.corpus import stopwords\n",
    "from lxml import etree\n",
    "import json\n",
    "import time\n",
    "import numpy as np"
   ]
  },
  {
   "cell_type": "code",
   "execution_count": 59,
   "metadata": {
    "collapsed": true
   },
   "outputs": [],
   "source": [
    "#  truth format is fos \\t author author author.....\n",
    "#  result format is author \\t author \\t author  ....."
   ]
  },
  {
   "cell_type": "code",
   "execution_count": 63,
   "metadata": {},
   "outputs": [],
   "source": [
    "# some constant\n",
    "model = 'bigclam'\n",
    "link_mode = 'cite'\n",
    "conference = 'AAAI'\n",
    "resdir = os.path.join('res', model, link_mode, conference)\n",
    "pos_tag = 'cmty'\n",
    "truth_dir = os.path.join('data', link_mode, conference)\n",
    "measure_result_dir = os.path.join('measure', model, link_mode, conference)\n",
    "if not os.path.exists(measure_result_dir):\n",
    "    os.makedirs(measure_result_dir)"
   ]
  },
  {
   "cell_type": "code",
   "execution_count": 64,
   "metadata": {
    "collapsed": true
   },
   "outputs": [],
   "source": [
    "def load_r_comm(step):\n",
    "    comm = []\n",
    "    filename = os.path.join(resdir, '%s.%s.txt' % (step, pos_tag))\n",
    "    f = open(filename, 'r')\n",
    "    for i, line in enumerate(f):\n",
    "        comm.append(set())\n",
    "        tpls = line.split('\\t')[:-1]\n",
    "        for tpl in tpls:\n",
    "            au = tpl.split(',')[0]\n",
    "            comm[i].add(au)\n",
    "    return comm"
   ]
  },
  {
   "cell_type": "code",
   "execution_count": 65,
   "metadata": {},
   "outputs": [],
   "source": [
    "res_comm = load_r_comm('final')"
   ]
  },
  {
   "cell_type": "code",
   "execution_count": 66,
   "metadata": {
    "collapsed": true
   },
   "outputs": [
    {
     "data": {
      "text/plain": [
       "(array([ 75.,   7.,   4.,   3.,   2.,   2.,   2.,   1.,   2.,   2.]),\n",
       " array([    0. ,   360.2,   720.4,  1080.6,  1440.8,  1801. ,  2161.2,\n",
       "         2521.4,  2881.6,  3241.8,  3602. ]),\n",
       " <a list of 10 Patch objects>)"
      ]
     },
     "execution_count": 66,
     "metadata": {},
     "output_type": "execute_result"
    },
    {
     "data": {
      "image/png": "[encoded data removed]",
      "text/plain": [
       "<matplotlib.figure.Figure at 0x224dbd68160>"
      ]
     },
     "metadata": {},
     "output_type": "display_data"
    }
   ],
   "source": [
    "plt.hist(np.array([len(i) for i in res_comm]), bins=10)"
   ]
  },
  {
   "cell_type": "code",
   "execution_count": 67,
   "metadata": {
    "collapsed": true
   },
   "outputs": [],
   "source": [
    "def load_t_comm(scope):\n",
    "    comm = []\n",
    "    fos_name = []\n",
    "    filename = os.path.join(truth_dir, 'c_fos_L%d.txt' % scope)\n",
    "    f = open(filename, 'r')\n",
    "    for i, line in enumerate(f):\n",
    "        line = line.strip('\\n')\n",
    "        comm.append(set())\n",
    "        fos_name = line.split('\\t')[0]\n",
    "        aus = line.split('\\t')[1]\n",
    "        for au in aus.split(' '):\n",
    "            comm[i].add(au)\n",
    "    return comm, fos_name\n",
    "        "
   ]
  },
  {
   "cell_type": "code",
   "execution_count": 68,
   "metadata": {},
   "outputs": [],
   "source": [
    "truth_comm_scopes = []\n",
    "truth_comm_scopes_name = []\n",
    "for i in range(4):\n",
    "    comm, fos_name = load_t_comm(i)\n",
    "    truth_comm_scopes.append(comm)\n",
    "    truth_comm_scopes_name.append(fos_name)"
   ]
  },
  {
   "cell_type": "code",
   "execution_count": 78,
   "metadata": {
    "collapsed": true
   },
   "outputs": [],
   "source": [
    "def precision(r, t):\n",
    "    # r, t a set of authors\n",
    "    # r-predict t -ruth\n",
    "    # r & t TP\n",
    "    # r - r & t FP\n",
    "    # t - r & t TN\n",
    "    # precision = tp/(tp+fp)\n",
    "    if len(r) == 0:\n",
    "        return 0\n",
    "    return len(r&t)/(len(r))"
   ]
  },
  {
   "cell_type": "code",
   "execution_count": 79,
   "metadata": {
    "collapsed": true
   },
   "outputs": [],
   "source": [
    "def recall(r, t):\n",
    "    if len(t) == 0:\n",
    "        return 0\n",
    "    return len(r&t)/(len(t))"
   ]
  },
  {
   "cell_type": "code",
   "execution_count": 80,
   "metadata": {
    "collapsed": true
   },
   "outputs": [],
   "source": [
    "def f1(r, t):\n",
    "    pre = precision(r, t)\n",
    "    rec = recall(r, t)\n",
    "    if pre+rec < 1e-8:\n",
    "        return 0\n",
    "    return 2*(pre*rec)/(pre+rec)"
   ]
  },
  {
   "cell_type": "code",
   "execution_count": 81,
   "metadata": {
    "collapsed": true
   },
   "outputs": [],
   "source": [
    "def find_bestmatch_f1(xset, ycomm):\n",
    "    best_score = -1\n",
    "    for yset in ycomm:\n",
    "        score = f1(xset, yset)\n",
    "        if score > best_score:\n",
    "            best_score = score\n",
    "    return best_score"
   ]
  },
  {
   "cell_type": "code",
   "execution_count": 82,
   "metadata": {
    "collapsed": true
   },
   "outputs": [],
   "source": [
    "def measure(rcomm, tcomm):\n",
    "    sum1 = 0\n",
    "    sum2 = 0\n",
    "    for rset in rcomm:\n",
    "        sum1 += find_bestmatch_f1(rset, tcomm)\n",
    "    for tset in tcomm:\n",
    "        sum2 += find_bestmatch_f1(tset, rcomm)\n",
    "    return 0.5*(sum1/len(rcomm) + sum2/len(tcomm))"
   ]
  },
  {
   "cell_type": "code",
   "execution_count": 83,
   "metadata": {},
   "outputs": [],
   "source": [
    "measure_res = []\n",
    "for i in range(4):\n",
    "    measure_res.append(measure(res_comm, truth_comm_scopes[i]))"
   ]
  },
  {
   "cell_type": "code",
   "execution_count": 84,
   "metadata": {
    "scrolled": true
   },
   "outputs": [
    {
     "name": "stdout",
     "output_type": "stream",
     "text": [
      "[0.17614542695839094, 0.11069418996005398, 0.09150861950720883, 0.08571641553370342]\n"
     ]
    }
   ],
   "source": [
    "print (measure_res)"
   ]
  },
  {
   "cell_type": "code",
   "execution_count": 85,
   "metadata": {},
   "outputs": [],
   "source": [
    "measure_filename = os.path.join(measure_result_dir, 'res.txt')\n",
    "mf = open(measure_filename, 'w')\n",
    "for i in measure_res:\n",
    "    mf.write('%.5f\\n' % i)\n",
    "mf.close()"
   ]
  },
  {
   "cell_type": "code",
   "execution_count": null,
   "metadata": {
    "collapsed": true
   },
   "outputs": [],
   "source": []
  }
 ],
 "metadata": {
  "kernelspec": {
   "display_name": "Python 3",
   "language": "python",
   "name": "python3"
  },
  "language_info": {
   "codemirror_mode": {
    "name": "ipython",
    "version": 3
   },
   "file_extension": ".py",
   "mimetype": "text/x-python",
   "name": "python",
   "nbconvert_exporter": "python",
   "pygments_lexer": "ipython3",
   "version": "3.6.1"
  }
 },
 "nbformat": 4,
 "nbformat_minor": 2
}
