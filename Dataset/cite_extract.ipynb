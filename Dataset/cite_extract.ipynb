{
 "cells": [
  {
   "cell_type": "code",
   "execution_count": 33,
   "metadata": {
    "collapsed": true
   },
   "outputs": [],
   "source": [
    "%matplotlib inline\n",
    "import pymysql\n",
    "import os\n",
    "import re\n",
    "import copy\n",
    "import matplotlib.pyplot as plt\n",
    "from nltk.corpus import stopwords\n",
    "from lxml import etree\n",
    "import json\n",
    "import time\n",
    "import numpy as np"
   ]
  },
  {
   "cell_type": "code",
   "execution_count": 68,
   "metadata": {
    "collapsed": true
   },
   "outputs": [],
   "source": [
    "connection = pymysql.connect(host='127.0.0.1',\n",
    "                             user='data',\n",
    "                             password='data',\n",
    "                             db='mag-new-160205',\n",
    "                             charset='utf8mb4',\n",
    "                             port=3306,\n",
    "                             cursorclass=pymysql.cursors.DictCursor)\n",
    "cursor = connection.cursor()"
   ]
  },
  {
   "cell_type": "code",
   "execution_count": 97,
   "metadata": {
    "collapsed": false
   },
   "outputs": [
    {
     "name": "stdout",
     "output_type": "stream",
     "text": [
      "44B13001\n"
     ]
    }
   ],
   "source": [
    "conference = 'SIGCOMM'\n",
    "cursor.execute(\"SELECT ConferenceSeriesID FROM ConferenceSeries WHERE ShortName = '%s'\" % conference)\n",
    "conferenceID = cursor.fetchall()[0]['ConferenceSeriesID']\n",
    "print (conferenceID)"
   ]
  },
  {
   "cell_type": "code",
   "execution_count": 98,
   "metadata": {
    "collapsed": false
   },
   "outputs": [
    {
     "name": "stdout",
     "output_type": "stream",
     "text": [
      "4421\n"
     ]
    }
   ],
   "source": [
    "cursor.execute(\"SELECT PaperID FROM Papers WHERE ConferenceSeriesIDMappedToVenueName = '%s'\" % conferenceID)\n",
    "pid = []\n",
    "for row in cursor.fetchall():\n",
    "    pid.append(row['PaperID'])\n",
    "print (len(pid))"
   ]
  },
  {
   "cell_type": "code",
   "execution_count": 99,
   "metadata": {
    "collapsed": false
   },
   "outputs": [
    {
     "name": "stdout",
     "output_type": "stream",
     "text": [
      "Searching Time: 1275.869\n",
      "7259\n"
     ]
    }
   ],
   "source": [
    "st_ref = time.time()\n",
    "cursor.execute(\"SELECT PaperID, PaperReferenceID FROM PaperReferences WHERE \\\n",
    "    PaperID IN (SELECT PaperID FROM Papers WHERE ConferenceSeriesIDMappedToVenueName = '%s') \\\n",
    "    AND PaperReferenceID IN (SELECT PaperID FROM Papers WHERE ConferenceSeriesIDMappedToVenueName = '%s')\" % (conferenceID, conferenceID))\n",
    "ref_res = cursor.fetchall()\n",
    "print (\"Searching Time: %.3f\" % (time.time() - st_ref))\n",
    "print (len(ref_res))\n"
   ]
  },
  {
   "cell_type": "code",
   "execution_count": 100,
   "metadata": {
    "collapsed": true
   },
   "outputs": [],
   "source": [
    "ref = []\n",
    "for row in ref_res:\n",
    "    ref.append((row['PaperID'], row['PaperReferenceID']))\n"
   ]
  },
  {
   "cell_type": "code",
   "execution_count": 101,
   "metadata": {
    "collapsed": true
   },
   "outputs": [],
   "source": [
    "def load_result(cursor, container, name):\n",
    "    for row in cursor.fetchall():\n",
    "        container.append(row[name])\n",
    "    return container"
   ]
  },
  {
   "cell_type": "code",
   "execution_count": 102,
   "metadata": {
    "collapsed": false
   },
   "outputs": [
    {
     "name": "stdout",
     "output_type": "stream",
     "text": [
      "build time: 17.215\n",
      "link count: 113469\n"
     ]
    }
   ],
   "source": [
    "auid_link_dict = {}\n",
    "link_count = 1\n",
    "st_build = time.time()\n",
    "for refp, orip in ref:\n",
    "    oriau = []\n",
    "    refau = []\n",
    "    oriyear = []\n",
    "    refyear = []\n",
    "    cursor.execute(\"SELECT AuthorID FROM PaperAuthorAffiliations WHERE PaperID = '%s' \"% refp)\n",
    "    load_result(cursor, refau, 'AuthorID')\n",
    "    cursor.execute(\"SELECT PaperPublishYear FROM Papers WHERE PaperID = '%s'\" % refp)\n",
    "    load_result(cursor, refyear, 'PaperPublishYear')\n",
    "        \n",
    "    cursor.execute(\"SELECT AuthorID FROM PaperAuthorAffiliations WHERE PaperID = '%s' \"% orip)\n",
    "    load_result(cursor, oriau, 'AuthorID')\n",
    "    cursor.execute(\"SELECT PaperPublishYear FROM Papers WHERE PaperID = '%s'\" % orip)\n",
    "    load_result(cursor, oriyear, 'PaperPublishYear')\n",
    "\n",
    "    for au in oriau:\n",
    "        if au not in auid_link_dict.keys():\n",
    "            auid_link_dict[au] = {}\n",
    "        for rau in refau:\n",
    "            if rau not in auid_link_dict[au].keys():\n",
    "                auid_link_dict[au][rau] = []\n",
    "            auid_link_dict[au][rau].append((oriyear[0], refyear[0]))\n",
    "            link_count += 1\n",
    "print (\"build time: %.3f\" % (time.time() - st_build))\n",
    "print (\"link count: %d\" % link_count)"
   ]
  },
  {
   "cell_type": "code",
   "execution_count": 103,
   "metadata": {
    "collapsed": true
   },
   "outputs": [],
   "source": [
    "def export_link(link_dict, exdir):    \n",
    "    if not os.path.exists(exdir):\n",
    "        os.makedirs(exdir)\n",
    "    filename = os.path.join(exdir, 'link.txt')\n",
    "    f = open(filename, 'w')\n",
    "    for au in link_dict.keys():\n",
    "        for rau in link_dict[au].keys():\n",
    "            f.write(au+'\\t'+rau+'\\t')\n",
    "            ylen = len(link_dict[au][rau])\n",
    "            for i in range(ylen-1):\n",
    "                f.write(str(link_dict[au][rau][i][0])+' '+str(link_dict[au][rau][i][1])+'\\t')\n",
    "            f.write(str(link_dict[au][rau][ylen-1][0])+' '+str(str(link_dict[au][rau][ylen-1][1]))+'\\t'+'\\n')\n",
    "    f.close()\n",
    "    print (\"export %s\" % filename)"
   ]
  },
  {
   "cell_type": "code",
   "execution_count": 104,
   "metadata": {
    "collapsed": false
   },
   "outputs": [
    {
     "name": "stdout",
     "output_type": "stream",
     "text": [
      "export data/cite/SIGCOMM/link.txt\n"
     ]
    }
   ],
   "source": [
    "export_link(auid_link_dict, 'data/cite/%s' % conference)"
   ]
  },
  {
   "cell_type": "code",
   "execution_count": 105,
   "metadata": {
    "collapsed": false
   },
   "outputs": [
    {
     "name": "stdout",
     "output_type": "stream",
     "text": [
      "author number: 4738\n"
     ]
    }
   ],
   "source": [
    "au_set = set()\n",
    "for au in auid_link_dict.keys():\n",
    "    au_set.add(au)\n",
    "    for rau in auid_link_dict[au].keys():\n",
    "        au_set.add(rau)\n",
    "print (\"author number: %d\" % len(au_set))"
   ]
  },
  {
   "cell_type": "code",
   "execution_count": null,
   "metadata": {
    "collapsed": false
   },
   "outputs": [],
   "source": [
    "au_fos_all = [{}, {}, {}, {}]\n",
    "au_fos_count = [[],[],[],[]]\n",
    "for i in range(4):\n",
    "    for au in au_set:\n",
    "        cursor.execute(\"SELECT AuthorFOS.FieldOfStudyIDMappedToKeyword \\\n",
    "                                    FROM AuthorFOS, FieldsOfStudy WHERE \\\n",
    "                                    AuthorFOS.AuthorID = '%s' and FieldsOfStudy.FieldsOfStudyID = AuthorFOS.FieldOfStudyIDMappedToKeyword and \\\n",
    "                                    FieldsOfStudy.FieldsOfStudyLevel = 'L%d' \" % (au, i))\n",
    "        fos = []\n",
    "        load_result(cursor, fos, 'FieldOfStudyIDMappedToKeyword')\n",
    "        au_fos_all[i][au]  = fos\n",
    "        au_fos_count[i].append(len(fos))"
   ]
  },
  {
   "cell_type": "code",
   "execution_count": 91,
   "metadata": {
    "collapsed": false
   },
   "outputs": [
    {
     "data": {
      "text/plain": [
       "(array([ 5478.,   840.,   345.,   353.,   223.,   143.,   108.,    78.,\n",
       "           49.,    14.]),\n",
       " array([  0. ,   1.9,   3.8,   5.7,   7.6,   9.5,  11.4,  13.3,  15.2,\n",
       "         17.1,  19. ]),\n",
       " <a list of 10 Patch objects>)"
      ]
     },
     "execution_count": 91,
     "metadata": {},
     "output_type": "execute_result"
    },
    {
     "data": {
      "image/png": "[encoded data removed]",
      "text/plain": [
       "<matplotlib.figure.Figure at 0x7f15c974fc18>"
      ]
     },
     "metadata": {},
     "output_type": "display_data"
    }
   ],
   "source": [
    "plt.hist(np.array(au_fos_count[0]), bins=10)"
   ]
  },
  {
   "cell_type": "code",
   "execution_count": 92,
   "metadata": {
    "collapsed": false
   },
   "outputs": [
    {
     "data": {
      "text/plain": [
       "(array([  6.11800000e+03,   9.44000000e+02,   3.15000000e+02,\n",
       "          1.29000000e+02,   6.50000000e+01,   3.00000000e+01,\n",
       "          1.10000000e+01,   6.00000000e+00,   1.00000000e+01,\n",
       "          3.00000000e+00]),\n",
       " array([   0. ,   19.6,   39.2,   58.8,   78.4,   98. ,  117.6,  137.2,\n",
       "         156.8,  176.4,  196. ]),\n",
       " <a list of 10 Patch objects>)"
      ]
     },
     "execution_count": 92,
     "metadata": {},
     "output_type": "execute_result"
    },
    {
     "data": {
      "image/png": "[encoded data removed]",
      "text/plain": [
       "<matplotlib.figure.Figure at 0x7f15cd523a20>"
      ]
     },
     "metadata": {},
     "output_type": "display_data"
    }
   ],
   "source": [
    "plt.hist(np.array(au_fos_count[1]), bins=10)"
   ]
  },
  {
   "cell_type": "code",
   "execution_count": 93,
   "metadata": {
    "collapsed": false
   },
   "outputs": [
    {
     "data": {
      "text/plain": [
       "(array([  6.69300000e+03,   5.95000000e+02,   2.08000000e+02,\n",
       "          8.20000000e+01,   2.80000000e+01,   1.00000000e+01,\n",
       "          6.00000000e+00,   6.00000000e+00,   2.00000000e+00,\n",
       "          1.00000000e+00]),\n",
       " array([   0. ,   56.7,  113.4,  170.1,  226.8,  283.5,  340.2,  396.9,\n",
       "         453.6,  510.3,  567. ]),\n",
       " <a list of 10 Patch objects>)"
      ]
     },
     "execution_count": 93,
     "metadata": {},
     "output_type": "execute_result"
    },
    {
     "data": {
      "image/png": "[encoded data removed]",
      "text/plain": [
       "<matplotlib.figure.Figure at 0x7f15cd7fab70>"
      ]
     },
     "metadata": {},
     "output_type": "display_data"
    }
   ],
   "source": [
    "plt.hist(np.array(au_fos_count[2]), bins=10)"
   ]
  },
  {
   "cell_type": "code",
   "execution_count": 94,
   "metadata": {
    "collapsed": false
   },
   "outputs": [
    {
     "data": {
      "text/plain": [
       "(array([  7.28500000e+03,   2.20000000e+02,   7.90000000e+01,\n",
       "          2.20000000e+01,   6.00000000e+00,   6.00000000e+00,\n",
       "          5.00000000e+00,   5.00000000e+00,   1.00000000e+00,\n",
       "          2.00000000e+00]),\n",
       " array([    0. ,   702.3,  1404.6,  2106.9,  2809.2,  3511.5,  4213.8,\n",
       "         4916.1,  5618.4,  6320.7,  7023. ]),\n",
       " <a list of 10 Patch objects>)"
      ]
     },
     "execution_count": 94,
     "metadata": {},
     "output_type": "execute_result"
    },
    {
     "data": {
      "image/png": "[encoded data removed]",
      "text/plain": [
       "<matplotlib.figure.Figure at 0x7f15cd1b79e8>"
      ]
     },
     "metadata": {},
     "output_type": "display_data"
    }
   ],
   "source": [
    "plt.hist(np.array(au_fos_count[3]), bins=10)"
   ]
  },
  {
   "cell_type": "code",
   "execution_count": 95,
   "metadata": {
    "collapsed": true
   },
   "outputs": [],
   "source": [
    "def export_fos(fos_dicts, exdir):\n",
    "    if not os.path.exists(exdir):\n",
    "        os.makedirs(exdir)\n",
    "    for i in range(4):\n",
    "        filename = os.path.join(exdir, 'fos_L%d.txt' % i)\n",
    "        f = open(filename, 'w')\n",
    "        count = 0\n",
    "        for au in fos_dicts[i].keys():\n",
    "            if len(fos_dicts[i][au]) == 0:\n",
    "                f.write(au+'\\n')\n",
    "                continue\n",
    "            f.write(au+'\\t')\n",
    "            for j in range(len(fos_dicts[i][au])-1):\n",
    "                f.write(fos_dicts[i][au][j]+' ')\n",
    "            f.write(fos_dicts[i][au][-1]+'\\n')\n",
    "            count += len(fos_dicts[i][au])\n",
    "        f.close()\n",
    "        print (\"export %s: %d fos\" % (filename, count))"
   ]
  },
  {
   "cell_type": "code",
   "execution_count": 96,
   "metadata": {
    "collapsed": false
   },
   "outputs": [
    {
     "name": "stdout",
     "output_type": "stream",
     "text": [
      "export data/cite/ACL/fos_L0.txt: 14222 fos\n",
      "export data/cite/ACL/fos_L1.txt: 95675 fos\n",
      "export data/cite/ACL/fos_L2.txt: 177179 fos\n",
      "export data/cite/ACL/fos_L3.txt: 996170 fos\n"
     ]
    }
   ],
   "source": [
    "export_fos(au_fos_all, 'data/cite/%s' % conference)"
   ]
  },
  {
   "cell_type": "code",
   "execution_count": null,
   "metadata": {
    "collapsed": true
   },
   "outputs": [],
   "source": []
  }
 ],
 "metadata": {
  "kernelspec": {
   "display_name": "Python 3",
   "language": "python",
   "name": "python3"
  },
  "language_info": {
   "codemirror_mode": {
    "name": "ipython",
    "version": 3
   },
   "file_extension": ".py",
   "mimetype": "text/x-python",
   "name": "python",
   "nbconvert_exporter": "python",
   "pygments_lexer": "ipython3",
   "version": "3.5.3"
  }
 },
 "nbformat": 4,
 "nbformat_minor": 0
}
