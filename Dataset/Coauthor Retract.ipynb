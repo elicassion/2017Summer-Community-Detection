{
 "cells": [
  {
   "cell_type": "code",
   "execution_count": 1,
   "metadata": {
    "collapsed": true
   },
   "outputs": [],
   "source": [
    "%matplotlib inline\n",
    "import pymysql\n",
    "import os\n",
    "import re\n",
    "import copy\n",
    "import matplotlib.pyplot as plt\n",
    "from nltk.corpus import stopwords\n",
    "from lxml import etree\n",
    "import json\n",
    "import time\n",
    "import numpy as np"
   ]
  },
  {
   "cell_type": "code",
   "execution_count": 2,
   "metadata": {
    "collapsed": true
   },
   "outputs": [],
   "source": [
    "connection = pymysql.connect(host='127.0.0.1',\n",
    "                             user='data',\n",
    "                             password='data',\n",
    "                             db='mag-new-160205',\n",
    "                             charset='utf8mb4',\n",
    "                             port=3306,\n",
    "                             cursorclass=pymysql.cursors.DictCursor)\n",
    "cursor = connection.cursor()"
   ]
  },
  {
   "cell_type": "code",
   "execution_count": 3,
   "metadata": {
    "collapsed": true
   },
   "outputs": [],
   "source": [
    "def load_result(cursor, container, name):\n",
    "    for row in cursor.fetchall():\n",
    "        container.append(row[name])\n",
    "    return container"
   ]
  },
  {
   "cell_type": "code",
   "execution_count": 4,
   "metadata": {
    "collapsed": true
   },
   "outputs": [],
   "source": [
    "conference = 'AAAI'\n",
    "cursor.execute(\"SELECT ConferenceSeriesID FROM ConferenceSeries WHERE ShortName = '%s'\" % conference)\n",
    "conferenceID = cursor.fetchall()[0]['ConferenceSeriesID']"
   ]
  },
  {
   "cell_type": "code",
   "execution_count": 5,
   "metadata": {
    "collapsed": false
   },
   "outputs": [
    {
     "name": "stdout",
     "output_type": "stream",
     "text": [
      "12131\n"
     ]
    }
   ],
   "source": [
    "cursor.execute(\"SELECT PaperID, PaperPublishYear FROM Papers WHERE ConferenceSeriesIDMappedToVenueName = '%s'\" % conferenceID)\n",
    "pid_ptime_pairs = []\n",
    "for row in cursor.fetchall():\n",
    "    pid_ptime_pairs.append((row['PaperID'], row['PaperPublishYear']))\n",
    "print (len(pid_ptime_pairs))"
   ]
  },
  {
   "cell_type": "code",
   "execution_count": 7,
   "metadata": {
    "collapsed": false
   },
   "outputs": [
    {
     "name": "stdout",
     "output_type": "stream",
     "text": [
      "Searching Time: 8.331, Co-author item count: 88516\n"
     ]
    }
   ],
   "source": [
    "co_au = {}\n",
    "co_count = 0\n",
    "st_coau = time.time()\n",
    "for pid, ptime in pid_ptime_pairs:\n",
    "    cursor.execute(\"SELECT AuthorID FROM PaperAuthorAffiliations WHERE PaperID = '%s'\" % pid)\n",
    "    aus = []\n",
    "    load_result(cursor, aus, 'AuthorID')\n",
    "    for au in aus:\n",
    "        if au not in co_au.keys():\n",
    "            co_au[au] = {}\n",
    "        for cau in aus:\n",
    "            if au  == cau:\n",
    "                continue\n",
    "            if cau not in co_au[au].keys():\n",
    "                co_au[au][cau] = []\n",
    "            co_au[au][cau].append(ptime)\n",
    "            co_count += 1\n",
    "print (\"Searching Time: %.3f, Co-author item count: %d\" % (time.time() - st_coau, co_count))\n"
   ]
  },
  {
   "cell_type": "code",
   "execution_count": 11,
   "metadata": {
    "collapsed": true
   },
   "outputs": [],
   "source": [
    "def export_co_author(co_dict, filename):\n",
    "    f = open(filename, 'w')\n",
    "    for au in co_dict.keys():\n",
    "        if not co_dict[au]:\n",
    "            f.write(au+'\\n')\n",
    "            continue\n",
    "        f.write(au+'\\t')\n",
    "        for cau in co_dict[au].keys():\n",
    "            f.write(cau+'\\t')\n",
    "            for i in range(len(co_dict[au][cau])-1):\n",
    "                f.write(str(co_dict[au][cau][i])+ ' ' + str(co_dict[au][cau][i])+'\\t')\n",
    "            f.write(str(co_dict[au][cau][-1]) + ' ' + str(co_dict[au][cau][-1])+'\\n')\n",
    "    f.close()\n",
    "    print (\"export %s.\" % filename)"
   ]
  },
  {
   "cell_type": "code",
   "execution_count": 12,
   "metadata": {
    "collapsed": false
   },
   "outputs": [
    {
     "name": "stdout",
     "output_type": "stream",
     "text": [
      "export data/coau/link_AAAI.txt.\n"
     ]
    }
   ],
   "source": [
    "export_co_author(co_au, 'data/coau/link_%s.txt' % conference)"
   ]
  },
  {
   "cell_type": "code",
   "execution_count": null,
   "metadata": {
    "collapsed": true
   },
   "outputs": [],
   "source": []
  }
 ],
 "metadata": {
  "kernelspec": {
   "display_name": "Python 3",
   "language": "python",
   "name": "python3"
  },
  "language_info": {
   "codemirror_mode": {
    "name": "ipython",
    "version": 3
   },
   "file_extension": ".py",
   "mimetype": "text/x-python",
   "name": "python",
   "nbconvert_exporter": "python",
   "pygments_lexer": "ipython3",
   "version": "3.5.3"
  }
 },
 "nbformat": 4,
 "nbformat_minor": 0
}
