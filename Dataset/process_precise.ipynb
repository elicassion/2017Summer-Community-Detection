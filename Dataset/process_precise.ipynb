{
 "cells": [
  {
   "cell_type": "code",
   "execution_count": 1,
   "metadata": {
    "collapsed": true
   },
   "outputs": [],
   "source": [
    "%matplotlib inline\n",
    "import pymysql\n",
    "import os\n",
    "import re\n",
    "import copy\n",
    "import matplotlib.pyplot as plt\n",
    "from nltk.corpus import stopwords\n",
    "from lxml import etree\n",
    "import json\n",
    "import time"
   ]
  },
  {
   "cell_type": "code",
   "execution_count": 2,
   "metadata": {
    "collapsed": true
   },
   "outputs": [],
   "source": [
    "connection = pymysql.connect(host='127.0.0.1',\n",
    "                             user='data',\n",
    "                             password='data',\n",
    "                             db='mag-new-160205',\n",
    "                             charset='utf8mb4',\n",
    "                             port=3306,\n",
    "                             cursorclass=pymysql.cursors.DictCursor)\n",
    "cursor = connection.cursor()"
   ]
  },
  {
   "cell_type": "code",
   "execution_count": 3,
   "metadata": {
    "collapsed": false
   },
   "outputs": [
    {
     "name": "stdout",
     "output_type": "stream",
     "text": [
      "7945\n"
     ]
    }
   ],
   "source": [
    "author_name_set = set()\n",
    "data_folder = 'data'\n",
    "link_data_file_name = 'links_10000'\n",
    "link_data = open(os.path.join(data_folder, link_data_file_name+'.txt'), 'r')\n",
    "for line in link_data:\n",
    "    tags = line.split('\\t')\n",
    "    ori_au = tags[0]\n",
    "    ref_au = tags[1]\n",
    "    for i in range(2, len(tags)):\n",
    "        pair = tags[i]\n",
    "        st = int(pair.split(' ')[0])\n",
    "        ed = int(pair.split(' ')[1])\n",
    "        sql_str = \"SELECT AuthorID FROM Authors WHERE AuthorID='%s' and AuthorID=\"\n",
    "    "
   ]
  },
  {
   "cell_type": "code",
   "execution_count": null,
   "metadata": {
    "collapsed": true
   },
   "outputs": [],
   "source": []
  }
 ],
 "metadata": {
  "kernelspec": {
   "display_name": "Python 3",
   "language": "python",
   "name": "python3"
  },
  "language_info": {
   "codemirror_mode": {
    "name": "ipython",
    "version": 3
   },
   "file_extension": ".py",
   "mimetype": "text/x-python",
   "name": "python",
   "nbconvert_exporter": "python",
   "pygments_lexer": "ipython3",
   "version": "3.5.3"
  }
 },
 "nbformat": 4,
 "nbformat_minor": 0
}
